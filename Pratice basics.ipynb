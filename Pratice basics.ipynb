{
 "cells": [
  {
   "cell_type": "code",
   "execution_count": 6,
   "id": "36c82aff",
   "metadata": {},
   "outputs": [],
   "source": [
    "list=(1,5,6,7,8)"
   ]
  },
  {
   "cell_type": "code",
   "execution_count": 5,
   "id": "0122b3f6",
   "metadata": {},
   "outputs": [
    {
     "data": {
      "text/plain": [
       "tuple"
      ]
     },
     "execution_count": 5,
     "metadata": {},
     "output_type": "execute_result"
    }
   ],
   "source": [
    "type(list)"
   ]
  },
  {
   "cell_type": "code",
   "execution_count": 11,
   "id": "717c7409",
   "metadata": {},
   "outputs": [
    {
     "data": {
      "text/plain": [
       "(8, 6, 1)"
      ]
     },
     "execution_count": 11,
     "metadata": {},
     "output_type": "execute_result"
    }
   ],
   "source": [
    "list[::-2]"
   ]
  },
  {
   "cell_type": "code",
   "execution_count": 12,
   "id": "a89234a8",
   "metadata": {},
   "outputs": [],
   "source": [
    "stg='''hey beautiful!\n",
    "how are you'''"
   ]
  },
  {
   "cell_type": "code",
   "execution_count": 13,
   "id": "847a2528",
   "metadata": {},
   "outputs": [
    {
     "name": "stdout",
     "output_type": "stream",
     "text": [
      "hey beautiful!\n",
      "how are you\n"
     ]
    }
   ],
   "source": [
    "print(stg)"
   ]
  },
  {
   "cell_type": "code",
   "execution_count": 14,
   "id": "e44e0f4c",
   "metadata": {},
   "outputs": [],
   "source": [
    "z=[0]*100"
   ]
  },
  {
   "cell_type": "code",
   "execution_count": 15,
   "id": "6b1de592",
   "metadata": {},
   "outputs": [
    {
     "name": "stdout",
     "output_type": "stream",
     "text": [
      "[0, 0, 0, 0, 0, 0, 0, 0, 0, 0, 0, 0, 0, 0, 0, 0, 0, 0, 0, 0, 0, 0, 0, 0, 0, 0, 0, 0, 0, 0, 0, 0, 0, 0, 0, 0, 0, 0, 0, 0, 0, 0, 0, 0, 0, 0, 0, 0, 0, 0, 0, 0, 0, 0, 0, 0, 0, 0, 0, 0, 0, 0, 0, 0, 0, 0, 0, 0, 0, 0, 0, 0, 0, 0, 0, 0, 0, 0, 0, 0, 0, 0, 0, 0, 0, 0, 0, 0, 0, 0, 0, 0, 0, 0, 0, 0, 0, 0, 0, 0]\n"
     ]
    }
   ],
   "source": [
    "print(z)"
   ]
  },
  {
   "cell_type": "code",
   "execution_count": 27,
   "id": "bc776aa2",
   "metadata": {},
   "outputs": [],
   "source": [
    "number=['1','2','3','4']\n",
    "stg=[\"we\",\"are\"]"
   ]
  },
  {
   "cell_type": "code",
   "execution_count": 32,
   "id": "f58d525c",
   "metadata": {},
   "outputs": [
    {
     "data": {
      "text/plain": [
       "list"
      ]
     },
     "execution_count": 32,
     "metadata": {},
     "output_type": "execute_result"
    }
   ],
   "source": [
    "type(stg)"
   ]
  },
  {
   "cell_type": "code",
   "execution_count": 37,
   "id": "294225b0",
   "metadata": {},
   "outputs": [],
   "source": [
    "conc=number+stg"
   ]
  },
  {
   "cell_type": "code",
   "execution_count": 38,
   "id": "f443b8d7",
   "metadata": {},
   "outputs": [
    {
     "name": "stdout",
     "output_type": "stream",
     "text": [
      "['1', '2', '3', '4', 'we', 'are', 'we', 'are', 'we', 'are', 'we', 'are', 'we', 'are']\n"
     ]
    }
   ],
   "source": [
    "print(conc)"
   ]
  },
  {
   "cell_type": "code",
   "execution_count": 41,
   "id": "a42be519",
   "metadata": {},
   "outputs": [],
   "source": [
    "conc.remove('we')"
   ]
  },
  {
   "cell_type": "code",
   "execution_count": 6,
   "id": "2670099b",
   "metadata": {},
   "outputs": [],
   "source": [
    "birthplace =\"chicago\""
   ]
  },
  {
   "cell_type": "code",
   "execution_count": 10,
   "id": "7fcad543",
   "metadata": {},
   "outputs": [
    {
     "data": {
      "text/plain": [
       "'I was born inchicago'"
      ]
     },
     "execution_count": 10,
     "metadata": {},
     "output_type": "execute_result"
    }
   ],
   "source": [
    "\"I was born in\" +  birthplace"
   ]
  },
  {
   "cell_type": "code",
   "execution_count": null,
   "id": "8f615cd6",
   "metadata": {},
   "outputs": [],
   "source": []
  },
  {
   "cell_type": "code",
   "execution_count": null,
   "id": "a6d5953e",
   "metadata": {},
   "outputs": [],
   "source": []
  },
  {
   "cell_type": "code",
   "execution_count": null,
   "id": "eb187d17",
   "metadata": {},
   "outputs": [],
   "source": []
  },
  {
   "cell_type": "code",
   "execution_count": null,
   "id": "2d33ff1d",
   "metadata": {},
   "outputs": [],
   "source": []
  },
  {
   "cell_type": "code",
   "execution_count": null,
   "id": "d4b93995",
   "metadata": {},
   "outputs": [],
   "source": []
  },
  {
   "cell_type": "code",
   "execution_count": null,
   "id": "ce97b536",
   "metadata": {},
   "outputs": [],
   "source": []
  },
  {
   "cell_type": "code",
   "execution_count": null,
   "id": "3f2c78b9",
   "metadata": {},
   "outputs": [],
   "source": []
  },
  {
   "cell_type": "code",
   "execution_count": null,
   "id": "564f720d",
   "metadata": {},
   "outputs": [],
   "source": []
  }
 ],
 "metadata": {
  "kernelspec": {
   "display_name": "Python 3 (ipykernel)",
   "language": "python",
   "name": "python3"
  },
  "language_info": {
   "codemirror_mode": {
    "name": "ipython",
    "version": 3
   },
   "file_extension": ".py",
   "mimetype": "text/x-python",
   "name": "python",
   "nbconvert_exporter": "python",
   "pygments_lexer": "ipython3",
   "version": "3.9.12"
  }
 },
 "nbformat": 4,
 "nbformat_minor": 5
}
