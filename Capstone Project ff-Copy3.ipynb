{
 "cells": [
  {
   "cell_type": "code",
   "execution_count": 1,
   "id": "63822a7a",
   "metadata": {},
   "outputs": [],
   "source": [
    "import warnings\n",
    "import numpy as np\n",
    "warnings.filterwarnings(\"ignore\")\n",
    "import pandas as pd\n",
    "import statsmodels.api as sm\n",
    "import matplotlib.pyplot as plt\n",
    "import seaborn as sns\n",
    "from math import sqrt\n",
    "from sklearn.metrics import mean_squared_error\n",
    "from statsmodels.tsa.stattools import adfuller\n",
    "%matplotlib inline\n",
    "import numpy as np\n",
    "from sklearn import linear_model"
   ]
  },
  {
   "cell_type": "code",
   "execution_count": 2,
   "id": "5adc10cf",
   "metadata": {},
   "outputs": [],
   "source": [
    "import os \n",
    "os.chdir('E:/Capstone Project')\n",
    "df = pd.read_excel('Sales_Forecast_Data_Project.xlsx')"
   ]
  },
  {
   "cell_type": "code",
   "execution_count": 3,
   "id": "46caaeff",
   "metadata": {},
   "outputs": [
    {
     "data": {
      "text/html": [
       "<div>\n",
       "<style scoped>\n",
       "    .dataframe tbody tr th:only-of-type {\n",
       "        vertical-align: middle;\n",
       "    }\n",
       "\n",
       "    .dataframe tbody tr th {\n",
       "        vertical-align: top;\n",
       "    }\n",
       "\n",
       "    .dataframe thead th {\n",
       "        text-align: right;\n",
       "    }\n",
       "</style>\n",
       "<table border=\"1\" class=\"dataframe\">\n",
       "  <thead>\n",
       "    <tr style=\"text-align: right;\">\n",
       "      <th></th>\n",
       "      <th>FIN_YEAR</th>\n",
       "      <th>MONTH</th>\n",
       "      <th>STATE</th>\n",
       "      <th>FG</th>\n",
       "      <th>DISTRICT</th>\n",
       "      <th>COMPANY</th>\n",
       "      <th>VALUE</th>\n",
       "    </tr>\n",
       "  </thead>\n",
       "  <tbody>\n",
       "    <tr>\n",
       "      <th>0</th>\n",
       "      <td>2014-2015</td>\n",
       "      <td>Nov</td>\n",
       "      <td>Haryana</td>\n",
       "      <td>Insecticides</td>\n",
       "      <td>Rohtak</td>\n",
       "      <td>monous</td>\n",
       "      <td>675.00</td>\n",
       "    </tr>\n",
       "    <tr>\n",
       "      <th>1</th>\n",
       "      <td>2014-2015</td>\n",
       "      <td>Nov</td>\n",
       "      <td>Haryana</td>\n",
       "      <td>Insecticides</td>\n",
       "      <td>Rewari</td>\n",
       "      <td>monous</td>\n",
       "      <td>73.71</td>\n",
       "    </tr>\n",
       "    <tr>\n",
       "      <th>2</th>\n",
       "      <td>2014-2015</td>\n",
       "      <td>Nov</td>\n",
       "      <td>Haryana</td>\n",
       "      <td>Insecticides</td>\n",
       "      <td>Gurgaon</td>\n",
       "      <td>monous</td>\n",
       "      <td>405.00</td>\n",
       "    </tr>\n",
       "    <tr>\n",
       "      <th>3</th>\n",
       "      <td>2014-2015</td>\n",
       "      <td>Nov</td>\n",
       "      <td>Haryana</td>\n",
       "      <td>Insecticides</td>\n",
       "      <td>Mewat</td>\n",
       "      <td>monous</td>\n",
       "      <td>1188.00</td>\n",
       "    </tr>\n",
       "    <tr>\n",
       "      <th>4</th>\n",
       "      <td>2014-2015</td>\n",
       "      <td>Nov</td>\n",
       "      <td>Haryana</td>\n",
       "      <td>Insecticides</td>\n",
       "      <td>Palwal</td>\n",
       "      <td>monous</td>\n",
       "      <td>5188.59</td>\n",
       "    </tr>\n",
       "  </tbody>\n",
       "</table>\n",
       "</div>"
      ],
      "text/plain": [
       "    FIN_YEAR MONTH    STATE            FG DISTRICT  COMPANY    VALUE\n",
       "0  2014-2015   Nov  Haryana  Insecticides   Rohtak  monous    675.00\n",
       "1  2014-2015   Nov  Haryana  Insecticides   Rewari  monous     73.71\n",
       "2  2014-2015   Nov  Haryana  Insecticides  Gurgaon  monous    405.00\n",
       "3  2014-2015   Nov  Haryana  Insecticides    Mewat  monous   1188.00\n",
       "4  2014-2015   Nov  Haryana  Insecticides   Palwal  monous   5188.59"
      ]
     },
     "execution_count": 3,
     "metadata": {},
     "output_type": "execute_result"
    }
   ],
   "source": [
    "df.head()"
   ]
  },
  {
   "cell_type": "code",
   "execution_count": 4,
   "id": "ca7e3667",
   "metadata": {},
   "outputs": [
    {
     "data": {
      "text/html": [
       "<div>\n",
       "<style scoped>\n",
       "    .dataframe tbody tr th:only-of-type {\n",
       "        vertical-align: middle;\n",
       "    }\n",
       "\n",
       "    .dataframe tbody tr th {\n",
       "        vertical-align: top;\n",
       "    }\n",
       "\n",
       "    .dataframe thead th {\n",
       "        text-align: right;\n",
       "    }\n",
       "</style>\n",
       "<table border=\"1\" class=\"dataframe\">\n",
       "  <thead>\n",
       "    <tr style=\"text-align: right;\">\n",
       "      <th></th>\n",
       "      <th>VALUE</th>\n",
       "    </tr>\n",
       "  </thead>\n",
       "  <tbody>\n",
       "    <tr>\n",
       "      <th>count</th>\n",
       "      <td>230152.000000</td>\n",
       "    </tr>\n",
       "    <tr>\n",
       "      <th>mean</th>\n",
       "      <td>704.973592</td>\n",
       "    </tr>\n",
       "    <tr>\n",
       "      <th>std</th>\n",
       "      <td>2261.623760</td>\n",
       "    </tr>\n",
       "    <tr>\n",
       "      <th>min</th>\n",
       "      <td>0.000000</td>\n",
       "    </tr>\n",
       "    <tr>\n",
       "      <th>25%</th>\n",
       "      <td>0.000000</td>\n",
       "    </tr>\n",
       "    <tr>\n",
       "      <th>50%</th>\n",
       "      <td>0.000000</td>\n",
       "    </tr>\n",
       "    <tr>\n",
       "      <th>75%</th>\n",
       "      <td>269.865000</td>\n",
       "    </tr>\n",
       "    <tr>\n",
       "      <th>max</th>\n",
       "      <td>69828.750000</td>\n",
       "    </tr>\n",
       "  </tbody>\n",
       "</table>\n",
       "</div>"
      ],
      "text/plain": [
       "               VALUE\n",
       "count  230152.000000\n",
       "mean      704.973592\n",
       "std      2261.623760\n",
       "min         0.000000\n",
       "25%         0.000000\n",
       "50%         0.000000\n",
       "75%       269.865000\n",
       "max     69828.750000"
      ]
     },
     "execution_count": 4,
     "metadata": {},
     "output_type": "execute_result"
    }
   ],
   "source": [
    "df.describe()"
   ]
  },
  {
   "cell_type": "code",
   "execution_count": 5,
   "id": "e93b479a",
   "metadata": {},
   "outputs": [
    {
     "data": {
      "text/plain": [
       "FIN_YEAR        4\n",
       "MONTH          12\n",
       "STATE           5\n",
       "FG              4\n",
       "DISTRICT      142\n",
       "COMPANY        47\n",
       "VALUE       25507\n",
       "dtype: int64"
      ]
     },
     "execution_count": 5,
     "metadata": {},
     "output_type": "execute_result"
    }
   ],
   "source": [
    "df.nunique()"
   ]
  },
  {
   "cell_type": "code",
   "execution_count": 6,
   "id": "4fa7febe",
   "metadata": {},
   "outputs": [
    {
     "data": {
      "text/plain": [
       "FIN_YEAR    0\n",
       "MONTH       0\n",
       "STATE       0\n",
       "FG          0\n",
       "DISTRICT    0\n",
       "COMPANY     0\n",
       "VALUE       0\n",
       "dtype: int64"
      ]
     },
     "execution_count": 6,
     "metadata": {},
     "output_type": "execute_result"
    }
   ],
   "source": [
    "df.isnull().sum()"
   ]
  },
  {
   "cell_type": "code",
   "execution_count": 12,
   "id": "6edb97c1",
   "metadata": {},
   "outputs": [
    {
     "data": {
      "text/plain": [
       "FIN_YEAR     object\n",
       "MONTH        object\n",
       "STATE        object\n",
       "FG           object\n",
       "DISTRICT     object\n",
       "COMPANY      object\n",
       "VALUE       float64\n",
       "dtype: object"
      ]
     },
     "execution_count": 12,
     "metadata": {},
     "output_type": "execute_result"
    }
   ],
   "source": [
    "df.dtypes"
   ]
  },
  {
   "cell_type": "code",
   "execution_count": 7,
   "id": "aaedf7fb",
   "metadata": {},
   "outputs": [],
   "source": [
    "df1= df[df['COMPANY']==('ABC Manufacturing')]"
   ]
  },
  {
   "cell_type": "code",
   "execution_count": 8,
   "id": "6a6b8dcb",
   "metadata": {},
   "outputs": [
    {
     "data": {
      "text/html": [
       "<div>\n",
       "<style scoped>\n",
       "    .dataframe tbody tr th:only-of-type {\n",
       "        vertical-align: middle;\n",
       "    }\n",
       "\n",
       "    .dataframe tbody tr th {\n",
       "        vertical-align: top;\n",
       "    }\n",
       "\n",
       "    .dataframe thead th {\n",
       "        text-align: right;\n",
       "    }\n",
       "</style>\n",
       "<table border=\"1\" class=\"dataframe\">\n",
       "  <thead>\n",
       "    <tr style=\"text-align: right;\">\n",
       "      <th></th>\n",
       "      <th>FIN_YEAR</th>\n",
       "      <th>MONTH</th>\n",
       "      <th>STATE</th>\n",
       "      <th>FG</th>\n",
       "      <th>DISTRICT</th>\n",
       "      <th>COMPANY</th>\n",
       "      <th>VALUE</th>\n",
       "    </tr>\n",
       "  </thead>\n",
       "  <tbody>\n",
       "    <tr>\n",
       "      <th>49</th>\n",
       "      <td>2014-2015</td>\n",
       "      <td>Dec</td>\n",
       "      <td>Haryana</td>\n",
       "      <td>Insecticides</td>\n",
       "      <td>Ambala</td>\n",
       "      <td>ABC Manufacturing</td>\n",
       "      <td>6019.380</td>\n",
       "    </tr>\n",
       "    <tr>\n",
       "      <th>50</th>\n",
       "      <td>2014-2015</td>\n",
       "      <td>Dec</td>\n",
       "      <td>Haryana</td>\n",
       "      <td>Insecticides</td>\n",
       "      <td>Yamunanagar</td>\n",
       "      <td>ABC Manufacturing</td>\n",
       "      <td>425.250</td>\n",
       "    </tr>\n",
       "    <tr>\n",
       "      <th>51</th>\n",
       "      <td>2014-2015</td>\n",
       "      <td>Dec</td>\n",
       "      <td>Haryana</td>\n",
       "      <td>Insecticides</td>\n",
       "      <td>Karnal</td>\n",
       "      <td>ABC Manufacturing</td>\n",
       "      <td>14782.635</td>\n",
       "    </tr>\n",
       "    <tr>\n",
       "      <th>52</th>\n",
       "      <td>2014-2015</td>\n",
       "      <td>Dec</td>\n",
       "      <td>Haryana</td>\n",
       "      <td>Insecticides</td>\n",
       "      <td>Panipat</td>\n",
       "      <td>ABC Manufacturing</td>\n",
       "      <td>4031.910</td>\n",
       "    </tr>\n",
       "    <tr>\n",
       "      <th>53</th>\n",
       "      <td>2014-2015</td>\n",
       "      <td>Dec</td>\n",
       "      <td>Haryana</td>\n",
       "      <td>Insecticides</td>\n",
       "      <td>Sonipat</td>\n",
       "      <td>ABC Manufacturing</td>\n",
       "      <td>8692.110</td>\n",
       "    </tr>\n",
       "  </tbody>\n",
       "</table>\n",
       "</div>"
      ],
      "text/plain": [
       "     FIN_YEAR MONTH    STATE            FG     DISTRICT            COMPANY  \\\n",
       "49  2014-2015   Dec  Haryana  Insecticides       Ambala  ABC Manufacturing   \n",
       "50  2014-2015   Dec  Haryana  Insecticides  Yamunanagar  ABC Manufacturing   \n",
       "51  2014-2015   Dec  Haryana  Insecticides       Karnal  ABC Manufacturing   \n",
       "52  2014-2015   Dec  Haryana  Insecticides      Panipat  ABC Manufacturing   \n",
       "53  2014-2015   Dec  Haryana  Insecticides      Sonipat  ABC Manufacturing   \n",
       "\n",
       "        VALUE  \n",
       "49   6019.380  \n",
       "50    425.250  \n",
       "51  14782.635  \n",
       "52   4031.910  \n",
       "53   8692.110  "
      ]
     },
     "execution_count": 8,
     "metadata": {},
     "output_type": "execute_result"
    }
   ],
   "source": [
    "df1.head()"
   ]
  },
  {
   "cell_type": "code",
   "execution_count": 9,
   "id": "a1a37fc3",
   "metadata": {},
   "outputs": [],
   "source": [
    "lst_months=['Apr','May','Jun','Jul','Aug','Sep','Oct','Nov','Dec']\n",
    "df1 = df1[df1[\"MONTH\"].isin(lst_months)]"
   ]
  },
  {
   "cell_type": "code",
   "execution_count": 10,
   "id": "abbf9d28",
   "metadata": {},
   "outputs": [
    {
     "data": {
      "text/html": [
       "<div>\n",
       "<style scoped>\n",
       "    .dataframe tbody tr th:only-of-type {\n",
       "        vertical-align: middle;\n",
       "    }\n",
       "\n",
       "    .dataframe tbody tr th {\n",
       "        vertical-align: top;\n",
       "    }\n",
       "\n",
       "    .dataframe thead th {\n",
       "        text-align: right;\n",
       "    }\n",
       "</style>\n",
       "<table border=\"1\" class=\"dataframe\">\n",
       "  <thead>\n",
       "    <tr style=\"text-align: right;\">\n",
       "      <th></th>\n",
       "      <th>FIN_YEAR</th>\n",
       "      <th>MONTH</th>\n",
       "      <th>STATE</th>\n",
       "      <th>FG</th>\n",
       "      <th>DISTRICT</th>\n",
       "      <th>COMPANY</th>\n",
       "      <th>VALUE</th>\n",
       "    </tr>\n",
       "  </thead>\n",
       "  <tbody>\n",
       "    <tr>\n",
       "      <th>49</th>\n",
       "      <td>2014-2015</td>\n",
       "      <td>Dec</td>\n",
       "      <td>Haryana</td>\n",
       "      <td>Insecticides</td>\n",
       "      <td>Ambala</td>\n",
       "      <td>ABC Manufacturing</td>\n",
       "      <td>6019.380</td>\n",
       "    </tr>\n",
       "    <tr>\n",
       "      <th>50</th>\n",
       "      <td>2014-2015</td>\n",
       "      <td>Dec</td>\n",
       "      <td>Haryana</td>\n",
       "      <td>Insecticides</td>\n",
       "      <td>Yamunanagar</td>\n",
       "      <td>ABC Manufacturing</td>\n",
       "      <td>425.250</td>\n",
       "    </tr>\n",
       "    <tr>\n",
       "      <th>51</th>\n",
       "      <td>2014-2015</td>\n",
       "      <td>Dec</td>\n",
       "      <td>Haryana</td>\n",
       "      <td>Insecticides</td>\n",
       "      <td>Karnal</td>\n",
       "      <td>ABC Manufacturing</td>\n",
       "      <td>14782.635</td>\n",
       "    </tr>\n",
       "    <tr>\n",
       "      <th>52</th>\n",
       "      <td>2014-2015</td>\n",
       "      <td>Dec</td>\n",
       "      <td>Haryana</td>\n",
       "      <td>Insecticides</td>\n",
       "      <td>Panipat</td>\n",
       "      <td>ABC Manufacturing</td>\n",
       "      <td>4031.910</td>\n",
       "    </tr>\n",
       "    <tr>\n",
       "      <th>53</th>\n",
       "      <td>2014-2015</td>\n",
       "      <td>Dec</td>\n",
       "      <td>Haryana</td>\n",
       "      <td>Insecticides</td>\n",
       "      <td>Sonipat</td>\n",
       "      <td>ABC Manufacturing</td>\n",
       "      <td>8692.110</td>\n",
       "    </tr>\n",
       "  </tbody>\n",
       "</table>\n",
       "</div>"
      ],
      "text/plain": [
       "     FIN_YEAR MONTH    STATE            FG     DISTRICT            COMPANY  \\\n",
       "49  2014-2015   Dec  Haryana  Insecticides       Ambala  ABC Manufacturing   \n",
       "50  2014-2015   Dec  Haryana  Insecticides  Yamunanagar  ABC Manufacturing   \n",
       "51  2014-2015   Dec  Haryana  Insecticides       Karnal  ABC Manufacturing   \n",
       "52  2014-2015   Dec  Haryana  Insecticides      Panipat  ABC Manufacturing   \n",
       "53  2014-2015   Dec  Haryana  Insecticides      Sonipat  ABC Manufacturing   \n",
       "\n",
       "        VALUE  \n",
       "49   6019.380  \n",
       "50    425.250  \n",
       "51  14782.635  \n",
       "52   4031.910  \n",
       "53   8692.110  "
      ]
     },
     "execution_count": 10,
     "metadata": {},
     "output_type": "execute_result"
    }
   ],
   "source": [
    "df1.head()"
   ]
  },
  {
   "cell_type": "code",
   "execution_count": 11,
   "id": "ea9bfb78",
   "metadata": {},
   "outputs": [],
   "source": [
    "df1['Year-Month']= df['MONTH'] + df['FIN_YEAR'].str[:4]"
   ]
  },
  {
   "cell_type": "code",
   "execution_count": 12,
   "id": "bfebd05b",
   "metadata": {},
   "outputs": [],
   "source": [
    "df2=df[df['COMPANY'] == 'ABC Manufacturing']"
   ]
  },
  {
   "cell_type": "code",
   "execution_count": 13,
   "id": "6c0961a4",
   "metadata": {},
   "outputs": [],
   "source": [
    "lst_months_sec=['Jan','Feb','Mar']\n",
    "df2 = df2[df2[\"MONTH\"].isin(lst_months_sec)]"
   ]
  },
  {
   "cell_type": "code",
   "execution_count": 14,
   "id": "6c805791",
   "metadata": {},
   "outputs": [],
   "source": [
    "df2['Year-Month']= df2['MONTH'] + df2['FIN_YEAR'].str[5:]"
   ]
  },
  {
   "cell_type": "code",
   "execution_count": 15,
   "id": "4fe3a483",
   "metadata": {},
   "outputs": [],
   "source": [
    "new_df = pd.concat([df1, df2])"
   ]
  },
  {
   "cell_type": "code",
   "execution_count": 16,
   "id": "6942845a",
   "metadata": {},
   "outputs": [
    {
     "data": {
      "text/html": [
       "<div>\n",
       "<style scoped>\n",
       "    .dataframe tbody tr th:only-of-type {\n",
       "        vertical-align: middle;\n",
       "    }\n",
       "\n",
       "    .dataframe tbody tr th {\n",
       "        vertical-align: top;\n",
       "    }\n",
       "\n",
       "    .dataframe thead th {\n",
       "        text-align: right;\n",
       "    }\n",
       "</style>\n",
       "<table border=\"1\" class=\"dataframe\">\n",
       "  <thead>\n",
       "    <tr style=\"text-align: right;\">\n",
       "      <th></th>\n",
       "      <th>FIN_YEAR</th>\n",
       "      <th>MONTH</th>\n",
       "      <th>STATE</th>\n",
       "      <th>FG</th>\n",
       "      <th>DISTRICT</th>\n",
       "      <th>COMPANY</th>\n",
       "      <th>VALUE</th>\n",
       "      <th>Year-Month</th>\n",
       "    </tr>\n",
       "  </thead>\n",
       "  <tbody>\n",
       "    <tr>\n",
       "      <th>49</th>\n",
       "      <td>2014-2015</td>\n",
       "      <td>Dec</td>\n",
       "      <td>Haryana</td>\n",
       "      <td>Insecticides</td>\n",
       "      <td>Ambala</td>\n",
       "      <td>ABC Manufacturing</td>\n",
       "      <td>6019.380</td>\n",
       "      <td>Dec2014</td>\n",
       "    </tr>\n",
       "    <tr>\n",
       "      <th>50</th>\n",
       "      <td>2014-2015</td>\n",
       "      <td>Dec</td>\n",
       "      <td>Haryana</td>\n",
       "      <td>Insecticides</td>\n",
       "      <td>Yamunanagar</td>\n",
       "      <td>ABC Manufacturing</td>\n",
       "      <td>425.250</td>\n",
       "      <td>Dec2014</td>\n",
       "    </tr>\n",
       "    <tr>\n",
       "      <th>51</th>\n",
       "      <td>2014-2015</td>\n",
       "      <td>Dec</td>\n",
       "      <td>Haryana</td>\n",
       "      <td>Insecticides</td>\n",
       "      <td>Karnal</td>\n",
       "      <td>ABC Manufacturing</td>\n",
       "      <td>14782.635</td>\n",
       "      <td>Dec2014</td>\n",
       "    </tr>\n",
       "    <tr>\n",
       "      <th>52</th>\n",
       "      <td>2014-2015</td>\n",
       "      <td>Dec</td>\n",
       "      <td>Haryana</td>\n",
       "      <td>Insecticides</td>\n",
       "      <td>Panipat</td>\n",
       "      <td>ABC Manufacturing</td>\n",
       "      <td>4031.910</td>\n",
       "      <td>Dec2014</td>\n",
       "    </tr>\n",
       "    <tr>\n",
       "      <th>53</th>\n",
       "      <td>2014-2015</td>\n",
       "      <td>Dec</td>\n",
       "      <td>Haryana</td>\n",
       "      <td>Insecticides</td>\n",
       "      <td>Sonipat</td>\n",
       "      <td>ABC Manufacturing</td>\n",
       "      <td>8692.110</td>\n",
       "      <td>Dec2014</td>\n",
       "    </tr>\n",
       "    <tr>\n",
       "      <th>...</th>\n",
       "      <td>...</td>\n",
       "      <td>...</td>\n",
       "      <td>...</td>\n",
       "      <td>...</td>\n",
       "      <td>...</td>\n",
       "      <td>...</td>\n",
       "      <td>...</td>\n",
       "      <td>...</td>\n",
       "    </tr>\n",
       "    <tr>\n",
       "      <th>230086</th>\n",
       "      <td>2016-2017</td>\n",
       "      <td>Feb</td>\n",
       "      <td>Punjab</td>\n",
       "      <td>Bactericides</td>\n",
       "      <td>Tarn Taran</td>\n",
       "      <td>ABC Manufacturing</td>\n",
       "      <td>0.000</td>\n",
       "      <td>Feb2017</td>\n",
       "    </tr>\n",
       "    <tr>\n",
       "      <th>230087</th>\n",
       "      <td>2016-2017</td>\n",
       "      <td>Feb</td>\n",
       "      <td>Punjab</td>\n",
       "      <td>Bactericides</td>\n",
       "      <td>Rupnagar</td>\n",
       "      <td>ABC Manufacturing</td>\n",
       "      <td>0.000</td>\n",
       "      <td>Feb2017</td>\n",
       "    </tr>\n",
       "    <tr>\n",
       "      <th>230088</th>\n",
       "      <td>2016-2017</td>\n",
       "      <td>Feb</td>\n",
       "      <td>Punjab</td>\n",
       "      <td>Bactericides</td>\n",
       "      <td>S.A.S Nagar</td>\n",
       "      <td>ABC Manufacturing</td>\n",
       "      <td>0.000</td>\n",
       "      <td>Feb2017</td>\n",
       "    </tr>\n",
       "    <tr>\n",
       "      <th>230089</th>\n",
       "      <td>2016-2017</td>\n",
       "      <td>Feb</td>\n",
       "      <td>Punjab</td>\n",
       "      <td>Bactericides</td>\n",
       "      <td>Sangrur</td>\n",
       "      <td>ABC Manufacturing</td>\n",
       "      <td>0.000</td>\n",
       "      <td>Feb2017</td>\n",
       "    </tr>\n",
       "    <tr>\n",
       "      <th>230090</th>\n",
       "      <td>2016-2017</td>\n",
       "      <td>Feb</td>\n",
       "      <td>Punjab</td>\n",
       "      <td>Bactericides</td>\n",
       "      <td>Barnala</td>\n",
       "      <td>ABC Manufacturing</td>\n",
       "      <td>0.000</td>\n",
       "      <td>Feb2017</td>\n",
       "    </tr>\n",
       "  </tbody>\n",
       "</table>\n",
       "<p>28640 rows × 8 columns</p>\n",
       "</div>"
      ],
      "text/plain": [
       "         FIN_YEAR MONTH    STATE            FG     DISTRICT  \\\n",
       "49      2014-2015   Dec  Haryana  Insecticides       Ambala   \n",
       "50      2014-2015   Dec  Haryana  Insecticides  Yamunanagar   \n",
       "51      2014-2015   Dec  Haryana  Insecticides       Karnal   \n",
       "52      2014-2015   Dec  Haryana  Insecticides      Panipat   \n",
       "53      2014-2015   Dec  Haryana  Insecticides      Sonipat   \n",
       "...           ...   ...      ...           ...          ...   \n",
       "230086  2016-2017   Feb   Punjab  Bactericides   Tarn Taran   \n",
       "230087  2016-2017   Feb   Punjab  Bactericides     Rupnagar   \n",
       "230088  2016-2017   Feb   Punjab  Bactericides  S.A.S Nagar   \n",
       "230089  2016-2017   Feb   Punjab  Bactericides      Sangrur   \n",
       "230090  2016-2017   Feb   Punjab  Bactericides      Barnala   \n",
       "\n",
       "                  COMPANY      VALUE Year-Month  \n",
       "49      ABC Manufacturing   6019.380    Dec2014  \n",
       "50      ABC Manufacturing    425.250    Dec2014  \n",
       "51      ABC Manufacturing  14782.635    Dec2014  \n",
       "52      ABC Manufacturing   4031.910    Dec2014  \n",
       "53      ABC Manufacturing   8692.110    Dec2014  \n",
       "...                   ...        ...        ...  \n",
       "230086  ABC Manufacturing      0.000    Feb2017  \n",
       "230087  ABC Manufacturing      0.000    Feb2017  \n",
       "230088  ABC Manufacturing      0.000    Feb2017  \n",
       "230089  ABC Manufacturing      0.000    Feb2017  \n",
       "230090  ABC Manufacturing      0.000    Feb2017  \n",
       "\n",
       "[28640 rows x 8 columns]"
      ]
     },
     "execution_count": 16,
     "metadata": {},
     "output_type": "execute_result"
    }
   ],
   "source": [
    "new_df"
   ]
  },
  {
   "cell_type": "code",
   "execution_count": 17,
   "id": "0c94c8d9",
   "metadata": {},
   "outputs": [],
   "source": [
    "new_df['Year-Month']= pd.to_datetime(new_df['Year-Month'],infer_datetime_format=True)"
   ]
  },
  {
   "cell_type": "code",
   "execution_count": 18,
   "id": "b6a8dabe",
   "metadata": {},
   "outputs": [
    {
     "data": {
      "text/html": [
       "<div>\n",
       "<style scoped>\n",
       "    .dataframe tbody tr th:only-of-type {\n",
       "        vertical-align: middle;\n",
       "    }\n",
       "\n",
       "    .dataframe tbody tr th {\n",
       "        vertical-align: top;\n",
       "    }\n",
       "\n",
       "    .dataframe thead th {\n",
       "        text-align: right;\n",
       "    }\n",
       "</style>\n",
       "<table border=\"1\" class=\"dataframe\">\n",
       "  <thead>\n",
       "    <tr style=\"text-align: right;\">\n",
       "      <th></th>\n",
       "      <th>FIN_YEAR</th>\n",
       "      <th>MONTH</th>\n",
       "      <th>STATE</th>\n",
       "      <th>FG</th>\n",
       "      <th>DISTRICT</th>\n",
       "      <th>COMPANY</th>\n",
       "      <th>VALUE</th>\n",
       "      <th>Year-Month</th>\n",
       "    </tr>\n",
       "  </thead>\n",
       "  <tbody>\n",
       "    <tr>\n",
       "      <th>49</th>\n",
       "      <td>2014-2015</td>\n",
       "      <td>Dec</td>\n",
       "      <td>Haryana</td>\n",
       "      <td>Insecticides</td>\n",
       "      <td>Ambala</td>\n",
       "      <td>ABC Manufacturing</td>\n",
       "      <td>6019.380</td>\n",
       "      <td>2014-12-01</td>\n",
       "    </tr>\n",
       "    <tr>\n",
       "      <th>50</th>\n",
       "      <td>2014-2015</td>\n",
       "      <td>Dec</td>\n",
       "      <td>Haryana</td>\n",
       "      <td>Insecticides</td>\n",
       "      <td>Yamunanagar</td>\n",
       "      <td>ABC Manufacturing</td>\n",
       "      <td>425.250</td>\n",
       "      <td>2014-12-01</td>\n",
       "    </tr>\n",
       "    <tr>\n",
       "      <th>51</th>\n",
       "      <td>2014-2015</td>\n",
       "      <td>Dec</td>\n",
       "      <td>Haryana</td>\n",
       "      <td>Insecticides</td>\n",
       "      <td>Karnal</td>\n",
       "      <td>ABC Manufacturing</td>\n",
       "      <td>14782.635</td>\n",
       "      <td>2014-12-01</td>\n",
       "    </tr>\n",
       "    <tr>\n",
       "      <th>52</th>\n",
       "      <td>2014-2015</td>\n",
       "      <td>Dec</td>\n",
       "      <td>Haryana</td>\n",
       "      <td>Insecticides</td>\n",
       "      <td>Panipat</td>\n",
       "      <td>ABC Manufacturing</td>\n",
       "      <td>4031.910</td>\n",
       "      <td>2014-12-01</td>\n",
       "    </tr>\n",
       "    <tr>\n",
       "      <th>53</th>\n",
       "      <td>2014-2015</td>\n",
       "      <td>Dec</td>\n",
       "      <td>Haryana</td>\n",
       "      <td>Insecticides</td>\n",
       "      <td>Sonipat</td>\n",
       "      <td>ABC Manufacturing</td>\n",
       "      <td>8692.110</td>\n",
       "      <td>2014-12-01</td>\n",
       "    </tr>\n",
       "  </tbody>\n",
       "</table>\n",
       "</div>"
      ],
      "text/plain": [
       "     FIN_YEAR MONTH    STATE            FG     DISTRICT            COMPANY  \\\n",
       "49  2014-2015   Dec  Haryana  Insecticides       Ambala  ABC Manufacturing   \n",
       "50  2014-2015   Dec  Haryana  Insecticides  Yamunanagar  ABC Manufacturing   \n",
       "51  2014-2015   Dec  Haryana  Insecticides       Karnal  ABC Manufacturing   \n",
       "52  2014-2015   Dec  Haryana  Insecticides      Panipat  ABC Manufacturing   \n",
       "53  2014-2015   Dec  Haryana  Insecticides      Sonipat  ABC Manufacturing   \n",
       "\n",
       "        VALUE Year-Month  \n",
       "49   6019.380 2014-12-01  \n",
       "50    425.250 2014-12-01  \n",
       "51  14782.635 2014-12-01  \n",
       "52   4031.910 2014-12-01  \n",
       "53   8692.110 2014-12-01  "
      ]
     },
     "execution_count": 18,
     "metadata": {},
     "output_type": "execute_result"
    }
   ],
   "source": [
    "new_df.head()"
   ]
  },
  {
   "cell_type": "code",
   "execution_count": 19,
   "id": "6eee1ff8",
   "metadata": {},
   "outputs": [],
   "source": [
    "X= new_df.VALUE\n",
    "result = adfuller(X)"
   ]
  },
  {
   "cell_type": "code",
   "execution_count": 20,
   "id": "f5c761b6",
   "metadata": {},
   "outputs": [
    {
     "name": "stdout",
     "output_type": "stream",
     "text": [
      "ADF Statistic: -10.136218\n",
      "p-value: 0.000000\n",
      "Critical Values:\n",
      "\t1%: -3.431\n",
      "\t5%: -2.862\n",
      "\t10%: -2.567\n"
     ]
    }
   ],
   "source": [
    "print('ADF Statistic: %f' % result[0])\n",
    "print('p-value: %f' % result[1])\n",
    "print('Critical Values:')\n",
    "for key, value in result[4].items():\n",
    "    print('\\t%s: %.3f' % (key, value))"
   ]
  },
  {
   "cell_type": "markdown",
   "id": "5ffc22e7",
   "metadata": {},
   "source": [
    "The p-value is very less than the significance level of 0.05 and hence we can reject the null hypothesis and take that the series is stationary."
   ]
  },
  {
   "cell_type": "code",
   "execution_count": 21,
   "id": "78ac1700",
   "metadata": {},
   "outputs": [
    {
     "data": {
      "text/html": [
       "<div>\n",
       "<style scoped>\n",
       "    .dataframe tbody tr th:only-of-type {\n",
       "        vertical-align: middle;\n",
       "    }\n",
       "\n",
       "    .dataframe tbody tr th {\n",
       "        vertical-align: top;\n",
       "    }\n",
       "\n",
       "    .dataframe thead th {\n",
       "        text-align: right;\n",
       "    }\n",
       "</style>\n",
       "<table border=\"1\" class=\"dataframe\">\n",
       "  <thead>\n",
       "    <tr style=\"text-align: right;\">\n",
       "      <th></th>\n",
       "      <th>FIN_YEAR</th>\n",
       "      <th>MONTH</th>\n",
       "      <th>STATE</th>\n",
       "      <th>FG</th>\n",
       "      <th>DISTRICT</th>\n",
       "      <th>COMPANY</th>\n",
       "      <th>VALUE</th>\n",
       "      <th>Year-Month</th>\n",
       "    </tr>\n",
       "  </thead>\n",
       "  <tbody>\n",
       "    <tr>\n",
       "      <th>119264</th>\n",
       "      <td>2014-2015</td>\n",
       "      <td>Apr</td>\n",
       "      <td>Uttar Pradesh</td>\n",
       "      <td>Rodenticides</td>\n",
       "      <td>Kanpur Dehat</td>\n",
       "      <td>ABC Manufacturing</td>\n",
       "      <td>25.650</td>\n",
       "      <td>2014-04-01</td>\n",
       "    </tr>\n",
       "    <tr>\n",
       "      <th>118547</th>\n",
       "      <td>2014-2015</td>\n",
       "      <td>Apr</td>\n",
       "      <td>Uttar Pradesh</td>\n",
       "      <td>Rodenticides</td>\n",
       "      <td>Gautam Buddha Nagar</td>\n",
       "      <td>ABC Manufacturing</td>\n",
       "      <td>0.000</td>\n",
       "      <td>2014-04-01</td>\n",
       "    </tr>\n",
       "    <tr>\n",
       "      <th>118546</th>\n",
       "      <td>2014-2015</td>\n",
       "      <td>Apr</td>\n",
       "      <td>Uttar Pradesh</td>\n",
       "      <td>Rodenticides</td>\n",
       "      <td>Ghaziabad</td>\n",
       "      <td>ABC Manufacturing</td>\n",
       "      <td>190.485</td>\n",
       "      <td>2014-04-01</td>\n",
       "    </tr>\n",
       "    <tr>\n",
       "      <th>118545</th>\n",
       "      <td>2014-2015</td>\n",
       "      <td>Apr</td>\n",
       "      <td>Uttar Pradesh</td>\n",
       "      <td>Rodenticides</td>\n",
       "      <td>Baghpat</td>\n",
       "      <td>ABC Manufacturing</td>\n",
       "      <td>82.080</td>\n",
       "      <td>2014-04-01</td>\n",
       "    </tr>\n",
       "    <tr>\n",
       "      <th>118544</th>\n",
       "      <td>2014-2015</td>\n",
       "      <td>Apr</td>\n",
       "      <td>Uttar Pradesh</td>\n",
       "      <td>Rodenticides</td>\n",
       "      <td>Meerut</td>\n",
       "      <td>ABC Manufacturing</td>\n",
       "      <td>85.995</td>\n",
       "      <td>2014-04-01</td>\n",
       "    </tr>\n",
       "    <tr>\n",
       "      <th>...</th>\n",
       "      <td>...</td>\n",
       "      <td>...</td>\n",
       "      <td>...</td>\n",
       "      <td>...</td>\n",
       "      <td>...</td>\n",
       "      <td>...</td>\n",
       "      <td>...</td>\n",
       "      <td>...</td>\n",
       "    </tr>\n",
       "    <tr>\n",
       "      <th>51514</th>\n",
       "      <td>2017-2018</td>\n",
       "      <td>Jan</td>\n",
       "      <td>Uttar Pradesh</td>\n",
       "      <td>Insecticides</td>\n",
       "      <td>Unnao</td>\n",
       "      <td>ABC Manufacturing</td>\n",
       "      <td>24476.850</td>\n",
       "      <td>2018-01-01</td>\n",
       "    </tr>\n",
       "    <tr>\n",
       "      <th>51515</th>\n",
       "      <td>2017-2018</td>\n",
       "      <td>Jan</td>\n",
       "      <td>Uttar Pradesh</td>\n",
       "      <td>Insecticides</td>\n",
       "      <td>Lucknow</td>\n",
       "      <td>ABC Manufacturing</td>\n",
       "      <td>8613.000</td>\n",
       "      <td>2018-01-01</td>\n",
       "    </tr>\n",
       "    <tr>\n",
       "      <th>51516</th>\n",
       "      <td>2017-2018</td>\n",
       "      <td>Jan</td>\n",
       "      <td>Uttar Pradesh</td>\n",
       "      <td>Insecticides</td>\n",
       "      <td>Rae Bareli</td>\n",
       "      <td>ABC Manufacturing</td>\n",
       "      <td>15958.890</td>\n",
       "      <td>2018-01-01</td>\n",
       "    </tr>\n",
       "    <tr>\n",
       "      <th>51510</th>\n",
       "      <td>2017-2018</td>\n",
       "      <td>Jan</td>\n",
       "      <td>Uttar Pradesh</td>\n",
       "      <td>Insecticides</td>\n",
       "      <td>Shahjahanpur</td>\n",
       "      <td>ABC Manufacturing</td>\n",
       "      <td>19044.450</td>\n",
       "      <td>2018-01-01</td>\n",
       "    </tr>\n",
       "    <tr>\n",
       "      <th>115003</th>\n",
       "      <td>2017-2018</td>\n",
       "      <td>Jan</td>\n",
       "      <td>Punjab</td>\n",
       "      <td>Herbicides</td>\n",
       "      <td>Rupnagar</td>\n",
       "      <td>ABC Manufacturing</td>\n",
       "      <td>0.000</td>\n",
       "      <td>2018-01-01</td>\n",
       "    </tr>\n",
       "  </tbody>\n",
       "</table>\n",
       "<p>28640 rows × 8 columns</p>\n",
       "</div>"
      ],
      "text/plain": [
       "         FIN_YEAR MONTH          STATE            FG             DISTRICT  \\\n",
       "119264  2014-2015   Apr  Uttar Pradesh  Rodenticides         Kanpur Dehat   \n",
       "118547  2014-2015   Apr  Uttar Pradesh  Rodenticides  Gautam Buddha Nagar   \n",
       "118546  2014-2015   Apr  Uttar Pradesh  Rodenticides            Ghaziabad   \n",
       "118545  2014-2015   Apr  Uttar Pradesh  Rodenticides              Baghpat   \n",
       "118544  2014-2015   Apr  Uttar Pradesh  Rodenticides               Meerut   \n",
       "...           ...   ...            ...           ...                  ...   \n",
       "51514   2017-2018   Jan  Uttar Pradesh  Insecticides                Unnao   \n",
       "51515   2017-2018   Jan  Uttar Pradesh  Insecticides              Lucknow   \n",
       "51516   2017-2018   Jan  Uttar Pradesh  Insecticides           Rae Bareli   \n",
       "51510   2017-2018   Jan  Uttar Pradesh  Insecticides         Shahjahanpur   \n",
       "115003  2017-2018   Jan         Punjab    Herbicides             Rupnagar   \n",
       "\n",
       "                  COMPANY      VALUE Year-Month  \n",
       "119264  ABC Manufacturing     25.650 2014-04-01  \n",
       "118547  ABC Manufacturing      0.000 2014-04-01  \n",
       "118546  ABC Manufacturing    190.485 2014-04-01  \n",
       "118545  ABC Manufacturing     82.080 2014-04-01  \n",
       "118544  ABC Manufacturing     85.995 2014-04-01  \n",
       "...                   ...        ...        ...  \n",
       "51514   ABC Manufacturing  24476.850 2018-01-01  \n",
       "51515   ABC Manufacturing   8613.000 2018-01-01  \n",
       "51516   ABC Manufacturing  15958.890 2018-01-01  \n",
       "51510   ABC Manufacturing  19044.450 2018-01-01  \n",
       "115003  ABC Manufacturing      0.000 2018-01-01  \n",
       "\n",
       "[28640 rows x 8 columns]"
      ]
     },
     "execution_count": 21,
     "metadata": {},
     "output_type": "execute_result"
    }
   ],
   "source": [
    "new_df = new_df.sort_values('Year-Month')\n",
    "new_df"
   ]
  },
  {
   "cell_type": "code",
   "execution_count": 22,
   "id": "fef04054",
   "metadata": {},
   "outputs": [
    {
     "data": {
      "text/plain": [
       "<AxesSubplot:xlabel='STATE', ylabel='count'>"
      ]
     },
     "execution_count": 22,
     "metadata": {},
     "output_type": "execute_result"
    },
    {
     "data": {
      "image/png": "[encoded data removed]",
      "text/plain": [
       "<Figure size 432x288 with 1 Axes>"
      ]
     },
     "metadata": {
      "needs_background": "light"
     },
     "output_type": "display_data"
    }
   ],
   "source": [
    "sns.countplot(x='STATE', hue='FG', data = new_df)"
   ]
  },
  {
   "cell_type": "code",
   "execution_count": 23,
   "id": "1e091652",
   "metadata": {},
   "outputs": [
    {
     "data": {
      "text/html": [
       "<div>\n",
       "<style scoped>\n",
       "    .dataframe tbody tr th:only-of-type {\n",
       "        vertical-align: middle;\n",
       "    }\n",
       "\n",
       "    .dataframe tbody tr th {\n",
       "        vertical-align: top;\n",
       "    }\n",
       "\n",
       "    .dataframe thead th {\n",
       "        text-align: right;\n",
       "    }\n",
       "</style>\n",
       "<table border=\"1\" class=\"dataframe\">\n",
       "  <thead>\n",
       "    <tr style=\"text-align: right;\">\n",
       "      <th></th>\n",
       "      <th>STATE</th>\n",
       "      <th>VALUE</th>\n",
       "      <th>Year-Month</th>\n",
       "    </tr>\n",
       "  </thead>\n",
       "  <tbody>\n",
       "    <tr>\n",
       "      <th>119264</th>\n",
       "      <td>Uttar Pradesh</td>\n",
       "      <td>25.650</td>\n",
       "      <td>2014-04-01</td>\n",
       "    </tr>\n",
       "    <tr>\n",
       "      <th>118547</th>\n",
       "      <td>Uttar Pradesh</td>\n",
       "      <td>0.000</td>\n",
       "      <td>2014-04-01</td>\n",
       "    </tr>\n",
       "    <tr>\n",
       "      <th>118546</th>\n",
       "      <td>Uttar Pradesh</td>\n",
       "      <td>190.485</td>\n",
       "      <td>2014-04-01</td>\n",
       "    </tr>\n",
       "    <tr>\n",
       "      <th>118545</th>\n",
       "      <td>Uttar Pradesh</td>\n",
       "      <td>82.080</td>\n",
       "      <td>2014-04-01</td>\n",
       "    </tr>\n",
       "    <tr>\n",
       "      <th>118544</th>\n",
       "      <td>Uttar Pradesh</td>\n",
       "      <td>85.995</td>\n",
       "      <td>2014-04-01</td>\n",
       "    </tr>\n",
       "    <tr>\n",
       "      <th>...</th>\n",
       "      <td>...</td>\n",
       "      <td>...</td>\n",
       "      <td>...</td>\n",
       "    </tr>\n",
       "    <tr>\n",
       "      <th>51514</th>\n",
       "      <td>Uttar Pradesh</td>\n",
       "      <td>24476.850</td>\n",
       "      <td>2018-01-01</td>\n",
       "    </tr>\n",
       "    <tr>\n",
       "      <th>51515</th>\n",
       "      <td>Uttar Pradesh</td>\n",
       "      <td>8613.000</td>\n",
       "      <td>2018-01-01</td>\n",
       "    </tr>\n",
       "    <tr>\n",
       "      <th>51516</th>\n",
       "      <td>Uttar Pradesh</td>\n",
       "      <td>15958.890</td>\n",
       "      <td>2018-01-01</td>\n",
       "    </tr>\n",
       "    <tr>\n",
       "      <th>51510</th>\n",
       "      <td>Uttar Pradesh</td>\n",
       "      <td>19044.450</td>\n",
       "      <td>2018-01-01</td>\n",
       "    </tr>\n",
       "    <tr>\n",
       "      <th>115003</th>\n",
       "      <td>Punjab</td>\n",
       "      <td>0.000</td>\n",
       "      <td>2018-01-01</td>\n",
       "    </tr>\n",
       "  </tbody>\n",
       "</table>\n",
       "<p>28640 rows × 3 columns</p>\n",
       "</div>"
      ],
      "text/plain": [
       "                STATE      VALUE Year-Month\n",
       "119264  Uttar Pradesh     25.650 2014-04-01\n",
       "118547  Uttar Pradesh      0.000 2014-04-01\n",
       "118546  Uttar Pradesh    190.485 2014-04-01\n",
       "118545  Uttar Pradesh     82.080 2014-04-01\n",
       "118544  Uttar Pradesh     85.995 2014-04-01\n",
       "...               ...        ...        ...\n",
       "51514   Uttar Pradesh  24476.850 2018-01-01\n",
       "51515   Uttar Pradesh   8613.000 2018-01-01\n",
       "51516   Uttar Pradesh  15958.890 2018-01-01\n",
       "51510   Uttar Pradesh  19044.450 2018-01-01\n",
       "115003         Punjab      0.000 2018-01-01\n",
       "\n",
       "[28640 rows x 3 columns]"
      ]
     },
     "execution_count": 23,
     "metadata": {},
     "output_type": "execute_result"
    }
   ],
   "source": [
    "new_df.drop(['FIN_YEAR','MONTH','FG','DISTRICT','COMPANY'],axis=1,inplace =True)\n",
    "new_df"
   ]
  },
  {
   "cell_type": "markdown",
   "id": "634b288d",
   "metadata": {},
   "source": [
    "# Data Visualization"
   ]
  },
  {
   "cell_type": "code",
   "execution_count": 35,
   "id": "8f6e320d",
   "metadata": {},
   "outputs": [
    {
     "data": {
      "text/plain": [
       "<AxesSubplot:xlabel='STATE', ylabel='count'>"
      ]
     },
     "execution_count": 35,
     "metadata": {},
     "output_type": "execute_result"
    },
    {
     "data": {
      "image/png": "[encoded data removed]",
      "text/plain": [
       "<Figure size 432x288 with 1 Axes>"
      ]
     },
     "metadata": {
      "needs_background": "light"
     },
     "output_type": "display_data"
    }
   ],
   "source": [
    "sns.countplot(x='STATE', data= new_df)"
   ]
  },
  {
   "cell_type": "code",
   "execution_count": 36,
   "id": "6124f69b",
   "metadata": {},
   "outputs": [
    {
     "data": {
      "text/plain": [
       "Uttar Pradesh       13024\n",
       "Haryana              6028\n",
       "Himachal Pradesh     3880\n",
       "Punjab               3668\n",
       "Uttarakhand          2040\n",
       "Name: STATE, dtype: int64"
      ]
     },
     "execution_count": 36,
     "metadata": {},
     "output_type": "execute_result"
    }
   ],
   "source": [
    "new_df['STATE'].value_counts(dropna= False)"
   ]
  },
  {
   "cell_type": "code",
   "execution_count": 37,
   "id": "8d61ae0f",
   "metadata": {},
   "outputs": [
    {
     "data": {
      "text/plain": [
       "<AxesSubplot:xlabel='STATE', ylabel='VALUE'>"
      ]
     },
     "execution_count": 37,
     "metadata": {},
     "output_type": "execute_result"
    },
    {
     "data": {
      "image/png": "[encoded data removed]",
      "text/plain": [
       "<Figure size 432x288 with 1 Axes>"
      ]
     },
     "metadata": {
      "needs_background": "light"
     },
     "output_type": "display_data"
    }
   ],
   "source": [
    "sns.barplot(x='STATE',y='VALUE',data= new_df)"
   ]
  },
  {
   "cell_type": "code",
   "execution_count": 38,
   "id": "75f2c3c6",
   "metadata": {},
   "outputs": [
    {
     "data": {
      "text/plain": [
       "STATE         0\n",
       "VALUE         0\n",
       "Year-Month    0\n",
       "dtype: int64"
      ]
     },
     "execution_count": 38,
     "metadata": {},
     "output_type": "execute_result"
    }
   ],
   "source": [
    "new_df.isnull().sum()"
   ]
  },
  {
   "cell_type": "code",
   "execution_count": 39,
   "id": "b485e185",
   "metadata": {},
   "outputs": [],
   "source": [
    "HR=new_df[new_df['STATE'] == ('Haryana')]\n",
    "\n",
    "UP= new_df[new_df['STATE']==('Uttar Pradesh')]\n",
    "\n",
    "PJ= new_df[new_df['STATE']==('Punjab')]\n",
    "\n",
    "UK= new_df[new_df['STATE']==('Uttarakhand')]\n",
    "\n",
    "HP= new_df[new_df['STATE']==('Himachal Pradesh')]"
   ]
  },
  {
   "cell_type": "code",
   "execution_count": 40,
   "id": "c19eaaa3",
   "metadata": {},
   "outputs": [
    {
     "data": {
      "text/html": [
       "<div>\n",
       "<style scoped>\n",
       "    .dataframe tbody tr th:only-of-type {\n",
       "        vertical-align: middle;\n",
       "    }\n",
       "\n",
       "    .dataframe tbody tr th {\n",
       "        vertical-align: top;\n",
       "    }\n",
       "\n",
       "    .dataframe thead th {\n",
       "        text-align: right;\n",
       "    }\n",
       "</style>\n",
       "<table border=\"1\" class=\"dataframe\">\n",
       "  <thead>\n",
       "    <tr style=\"text-align: right;\">\n",
       "      <th></th>\n",
       "      <th>STATE</th>\n",
       "      <th>VALUE</th>\n",
       "      <th>Year-Month</th>\n",
       "    </tr>\n",
       "  </thead>\n",
       "  <tbody>\n",
       "    <tr>\n",
       "      <th>175640</th>\n",
       "      <td>Haryana</td>\n",
       "      <td>0.0</td>\n",
       "      <td>2014-04-01</td>\n",
       "    </tr>\n",
       "    <tr>\n",
       "      <th>175641</th>\n",
       "      <td>Haryana</td>\n",
       "      <td>0.0</td>\n",
       "      <td>2014-04-01</td>\n",
       "    </tr>\n",
       "    <tr>\n",
       "      <th>175642</th>\n",
       "      <td>Haryana</td>\n",
       "      <td>0.0</td>\n",
       "      <td>2014-04-01</td>\n",
       "    </tr>\n",
       "    <tr>\n",
       "      <th>175643</th>\n",
       "      <td>Haryana</td>\n",
       "      <td>0.0</td>\n",
       "      <td>2014-04-01</td>\n",
       "    </tr>\n",
       "    <tr>\n",
       "      <th>175644</th>\n",
       "      <td>Haryana</td>\n",
       "      <td>0.0</td>\n",
       "      <td>2014-04-01</td>\n",
       "    </tr>\n",
       "  </tbody>\n",
       "</table>\n",
       "</div>"
      ],
      "text/plain": [
       "          STATE  VALUE Year-Month\n",
       "175640  Haryana    0.0 2014-04-01\n",
       "175641  Haryana    0.0 2014-04-01\n",
       "175642  Haryana    0.0 2014-04-01\n",
       "175643  Haryana    0.0 2014-04-01\n",
       "175644  Haryana    0.0 2014-04-01"
      ]
     },
     "execution_count": 40,
     "metadata": {},
     "output_type": "execute_result"
    }
   ],
   "source": [
    "HR.head()"
   ]
  },
  {
   "cell_type": "code",
   "execution_count": 41,
   "id": "5563a91a",
   "metadata": {},
   "outputs": [],
   "source": [
    "HR=HR.groupby('Year-Month')['VALUE'].sum().reset_index()\n",
    "\n",
    "UP=UP.groupby('Year-Month')['VALUE'].sum().reset_index()\n",
    "\n",
    "PJ=PJ.groupby('Year-Month')['VALUE'].sum().reset_index()\n",
    "\n",
    "UK=UK.groupby('Year-Month')['VALUE'].sum().reset_index()\n",
    "\n",
    "HP=HP.groupby('Year-Month')['VALUE'].sum().reset_index()"
   ]
  },
  {
   "cell_type": "code",
   "execution_count": 42,
   "id": "74eb6376",
   "metadata": {},
   "outputs": [
    {
     "data": {
      "text/html": [
       "<div>\n",
       "<style scoped>\n",
       "    .dataframe tbody tr th:only-of-type {\n",
       "        vertical-align: middle;\n",
       "    }\n",
       "\n",
       "    .dataframe tbody tr th {\n",
       "        vertical-align: top;\n",
       "    }\n",
       "\n",
       "    .dataframe thead th {\n",
       "        text-align: right;\n",
       "    }\n",
       "</style>\n",
       "<table border=\"1\" class=\"dataframe\">\n",
       "  <thead>\n",
       "    <tr style=\"text-align: right;\">\n",
       "      <th></th>\n",
       "      <th>Year-Month</th>\n",
       "      <th>VALUE</th>\n",
       "    </tr>\n",
       "  </thead>\n",
       "  <tbody>\n",
       "    <tr>\n",
       "      <th>0</th>\n",
       "      <td>2014-04-01</td>\n",
       "      <td>32577.660</td>\n",
       "    </tr>\n",
       "    <tr>\n",
       "      <th>1</th>\n",
       "      <td>2014-05-01</td>\n",
       "      <td>47482.740</td>\n",
       "    </tr>\n",
       "    <tr>\n",
       "      <th>2</th>\n",
       "      <td>2014-06-01</td>\n",
       "      <td>130684.185</td>\n",
       "    </tr>\n",
       "    <tr>\n",
       "      <th>3</th>\n",
       "      <td>2014-07-01</td>\n",
       "      <td>75471.075</td>\n",
       "    </tr>\n",
       "    <tr>\n",
       "      <th>4</th>\n",
       "      <td>2014-08-01</td>\n",
       "      <td>107146.530</td>\n",
       "    </tr>\n",
       "  </tbody>\n",
       "</table>\n",
       "</div>"
      ],
      "text/plain": [
       "  Year-Month       VALUE\n",
       "0 2014-04-01   32577.660\n",
       "1 2014-05-01   47482.740\n",
       "2 2014-06-01  130684.185\n",
       "3 2014-07-01   75471.075\n",
       "4 2014-08-01  107146.530"
      ]
     },
     "execution_count": 42,
     "metadata": {},
     "output_type": "execute_result"
    }
   ],
   "source": [
    "HR.head()"
   ]
  },
  {
   "cell_type": "code",
   "execution_count": 43,
   "id": "20c5f313",
   "metadata": {},
   "outputs": [],
   "source": [
    "HR=  HR.set_index('Year-Month')\n",
    "\n",
    "UP=  UP.set_index('Year-Month')\n",
    "\n",
    "PJ=  PJ.set_index('Year-Month')\n",
    "\n",
    "UK=  UK.set_index('Year-Month')\n",
    "\n",
    "HP=  HP.set_index('Year-Month')"
   ]
  },
  {
   "cell_type": "code",
   "execution_count": 44,
   "id": "bca605f2",
   "metadata": {},
   "outputs": [],
   "source": [
    "y= UP['VALUE'].resample('MS').mean()\n",
    "\n",
    "y1= HR['VALUE'].resample('MS').mean()\n",
    "\n",
    "y2= PJ['VALUE'].resample('MS').mean()\n",
    "\n",
    "y3= UK['VALUE'].resample('MS').mean()\n",
    "\n",
    "y4= HP['VALUE'].resample('MS').mean()"
   ]
  },
  {
   "cell_type": "code",
   "execution_count": 45,
   "id": "60ef3f81",
   "metadata": {},
   "outputs": [
    {
     "data": {
      "text/plain": [
       "Year-Month\n",
       "2017-09-01     539775.090\n",
       "2017-10-01     720295.875\n",
       "2017-11-01    1234663.965\n",
       "2017-12-01     991006.515\n",
       "2018-01-01     734645.700\n",
       "Freq: MS, Name: VALUE, dtype: float64"
      ]
     },
     "execution_count": 45,
     "metadata": {},
     "output_type": "execute_result"
    }
   ],
   "source": [
    "y.tail()"
   ]
  },
  {
   "cell_type": "markdown",
   "id": "d0149519",
   "metadata": {},
   "source": [
    "# Spliting Test and Train data for all the states"
   ]
  },
  {
   "cell_type": "code",
   "execution_count": 46,
   "id": "c01a47d5",
   "metadata": {},
   "outputs": [],
   "source": [
    "#Split data for UP\n",
    "train_len = 32\n",
    "train = y[0:train_len]\n",
    "test = y[train_len:]"
   ]
  },
  {
   "cell_type": "code",
   "execution_count": 47,
   "id": "b4a3176e",
   "metadata": {},
   "outputs": [],
   "source": [
    "#Split data for HR\n",
    "train_len1 = 32\n",
    "train1 = y1[0:train_len1]\n",
    "test1 = y1[train_len1:]"
   ]
  },
  {
   "cell_type": "code",
   "execution_count": 48,
   "id": "f15eebea",
   "metadata": {},
   "outputs": [],
   "source": [
    "#Split data for PJ\n",
    "train_len2 = 32\n",
    "train2 = y2[0:train_len2]\n",
    "test2 = y2[train_len2:]"
   ]
  },
  {
   "cell_type": "code",
   "execution_count": 49,
   "id": "b5047e3a",
   "metadata": {},
   "outputs": [],
   "source": [
    "#Split data for UK\n",
    "train_len3 = 32\n",
    "train3 = y3[0:train_len3]\n",
    "test3 = y3[train_len3:]"
   ]
  },
  {
   "cell_type": "code",
   "execution_count": 51,
   "id": "f6f8b904",
   "metadata": {},
   "outputs": [],
   "source": [
    "#Split data for HP\n",
    "train_len4 = 32\n",
    "train4 = y4[0:train_len4]\n",
    "test4 = y4[train_len4:]"
   ]
  },
  {
   "cell_type": "markdown",
   "id": "c50fc330",
   "metadata": {},
   "source": [
    "# Applying ARIMA Model on Uttar Pradesh state"
   ]
  },
  {
   "cell_type": "code",
   "execution_count": 127,
   "id": "9903888e",
   "metadata": {},
   "outputs": [
    {
     "data": {
      "image/png": "[encoded data removed]",
      "text/plain": [
       "<Figure size 432x288 with 4 Axes>"
      ]
     },
     "metadata": {
      "needs_background": "light"
     },
     "output_type": "display_data"
    }
   ],
   "source": [
    "decomposition=sm.tsa.seasonal_decompose(UP,model='additive')\n",
    "fig=decomposition.plot()\n",
    "plt.show()"
   ]
  },
  {
   "cell_type": "code",
   "execution_count": 128,
   "id": "3c1e3676",
   "metadata": {},
   "outputs": [
    {
     "data": {
      "text/plain": [
       "46"
      ]
     },
     "execution_count": 128,
     "metadata": {},
     "output_type": "execute_result"
    }
   ],
   "source": [
    "len(UP)"
   ]
  },
  {
   "cell_type": "code",
   "execution_count": 129,
   "id": "681a4a49",
   "metadata": {},
   "outputs": [
    {
     "name": "stdout",
     "output_type": "stream",
     "text": [
      "train data 32\n",
      "test data 14\n"
     ]
    }
   ],
   "source": [
    "print('train data',len(train))\n",
    "print('test data',len(test))"
   ]
  },
  {
   "cell_type": "code",
   "execution_count": 130,
   "id": "9dd1c620",
   "metadata": {},
   "outputs": [],
   "source": [
    "from statsmodels.tsa.arima.model import ARIMA\n",
    "import warnings \n",
    "warnings.filterwarnings('ignore')"
   ]
  },
  {
   "cell_type": "code",
   "execution_count": 131,
   "id": "9f390b1d",
   "metadata": {},
   "outputs": [],
   "source": [
    "#Assuming 5,0,4 as the value of p,d,q "
   ]
  },
  {
   "cell_type": "code",
   "execution_count": 132,
   "id": "5f74bd7f",
   "metadata": {},
   "outputs": [],
   "source": [
    "model=ARIMA(train,order=(5,0,4)).fit() "
   ]
  },
  {
   "cell_type": "code",
   "execution_count": 133,
   "id": "02ec7959",
   "metadata": {},
   "outputs": [
    {
     "data": {
      "text/plain": [
       "(32, 45)"
      ]
     },
     "execution_count": 133,
     "metadata": {},
     "output_type": "execute_result"
    }
   ],
   "source": [
    "len(train),(len(y)-1)"
   ]
  },
  {
   "cell_type": "code",
   "execution_count": 134,
   "id": "6141acea",
   "metadata": {},
   "outputs": [],
   "source": [
    "pred=model.predict(start=len(train),end=(len(y)-1))"
   ]
  },
  {
   "cell_type": "code",
   "execution_count": 135,
   "id": "93d08d0f",
   "metadata": {},
   "outputs": [
    {
     "data": {
      "text/plain": [
       "2017-09-01    883256.769446\n",
       "2017-10-01    655049.274478\n",
       "2017-11-01    898304.030686\n",
       "2017-12-01    691759.001448\n",
       "2018-01-01    888200.895516\n",
       "Freq: MS, Name: predicted_mean, dtype: float64"
      ]
     },
     "execution_count": 135,
     "metadata": {},
     "output_type": "execute_result"
    }
   ],
   "source": [
    "pred.tail()"
   ]
  },
  {
   "cell_type": "code",
   "execution_count": 136,
   "id": "02109f0d",
   "metadata": {},
   "outputs": [
    {
     "data": {
      "text/plain": [
       "294699.77675451664"
      ]
     },
     "execution_count": 136,
     "metadata": {},
     "output_type": "execute_result"
    }
   ],
   "source": [
    "error=np.sqrt(mean_squared_error(test,pred))\n",
    "error"
   ]
  },
  {
   "cell_type": "code",
   "execution_count": 137,
   "id": "4764443c",
   "metadata": {},
   "outputs": [
    {
     "data": {
      "text/plain": [
       "(726771.3717857143, 325369.9818881314)"
      ]
     },
     "execution_count": 137,
     "metadata": {},
     "output_type": "execute_result"
    }
   ],
   "source": [
    "test.mean(),np.sqrt(test.var())"
   ]
  },
  {
   "cell_type": "code",
   "execution_count": 145,
   "id": "4abc1ee6",
   "metadata": {},
   "outputs": [
    {
     "data": {
      "text/plain": [
       "<AxesSubplot:xlabel='Year-Month'>"
      ]
     },
     "execution_count": 145,
     "metadata": {},
     "output_type": "execute_result"
    },
    {
     "data": {
      "image/png": "[encoded data removed]",
      "text/plain": [
       "<Figure size 864x432 with 1 Axes>"
      ]
     },
     "metadata": {
      "needs_background": "light"
     },
     "output_type": "display_data"
    }
   ],
   "source": [
    "train.plot(legend=True,label='Train',figsize=(12,6))\n",
    "test.plot(legend=True,label='Test')\n",
    "pred.plot(legend=True,label='Prediction')"
   ]
  },
  {
   "cell_type": "code",
   "execution_count": 146,
   "id": "1e140f36",
   "metadata": {},
   "outputs": [],
   "source": [
    "final_model=ARIMA(y,order=(5,0,4)).fit() "
   ]
  },
  {
   "cell_type": "code",
   "execution_count": 147,
   "id": "faef9ae1",
   "metadata": {},
   "outputs": [
    {
     "data": {
      "text/html": [
       "<table class=\"simpletable\">\n",
       "<caption>SARIMAX Results</caption>\n",
       "<tr>\n",
       "  <th>Dep. Variable:</th>         <td>VALUE</td>      <th>  No. Observations:  </th>    <td>46</td>   \n",
       "</tr>\n",
       "<tr>\n",
       "  <th>Model:</th>            <td>ARIMA(5, 0, 4)</td>  <th>  Log Likelihood     </th> <td>-647.046</td>\n",
       "</tr>\n",
       "<tr>\n",
       "  <th>Date:</th>            <td>Sat, 19 Nov 2022</td> <th>  AIC                </th> <td>1316.092</td>\n",
       "</tr>\n",
       "<tr>\n",
       "  <th>Time:</th>                <td>13:35:20</td>     <th>  BIC                </th> <td>1336.207</td>\n",
       "</tr>\n",
       "<tr>\n",
       "  <th>Sample:</th>             <td>04-01-2014</td>    <th>  HQIC               </th> <td>1323.628</td>\n",
       "</tr>\n",
       "<tr>\n",
       "  <th></th>                   <td>- 01-01-2018</td>   <th>                     </th>     <td> </td>   \n",
       "</tr>\n",
       "<tr>\n",
       "  <th>Covariance Type:</th>        <td>opg</td>       <th>                     </th>     <td> </td>   \n",
       "</tr>\n",
       "</table>\n",
       "<table class=\"simpletable\">\n",
       "<tr>\n",
       "     <td></td>       <th>coef</th>     <th>std err</th>      <th>z</th>      <th>P>|z|</th>  <th>[0.025</th>    <th>0.975]</th>  \n",
       "</tr>\n",
       "<tr>\n",
       "  <th>const</th>  <td>  7.61e+05</td> <td> 7.87e+04</td> <td>    9.669</td> <td> 0.000</td> <td> 6.07e+05</td> <td> 9.15e+05</td>\n",
       "</tr>\n",
       "<tr>\n",
       "  <th>ar.L1</th>  <td>   -0.7058</td> <td>    1.725</td> <td>   -0.409</td> <td> 0.682</td> <td>   -4.088</td> <td>    2.676</td>\n",
       "</tr>\n",
       "<tr>\n",
       "  <th>ar.L2</th>  <td>   -0.5121</td> <td>    1.316</td> <td>   -0.389</td> <td> 0.697</td> <td>   -3.092</td> <td>    2.067</td>\n",
       "</tr>\n",
       "<tr>\n",
       "  <th>ar.L3</th>  <td>   -0.5417</td> <td>    1.296</td> <td>   -0.418</td> <td> 0.676</td> <td>   -3.082</td> <td>    1.999</td>\n",
       "</tr>\n",
       "<tr>\n",
       "  <th>ar.L4</th>  <td>    0.4261</td> <td>    1.331</td> <td>    0.320</td> <td> 0.749</td> <td>   -2.182</td> <td>    3.034</td>\n",
       "</tr>\n",
       "<tr>\n",
       "  <th>ar.L5</th>  <td>    0.1665</td> <td>    0.511</td> <td>    0.326</td> <td> 0.744</td> <td>   -0.835</td> <td>    1.168</td>\n",
       "</tr>\n",
       "<tr>\n",
       "  <th>ma.L1</th>  <td>    0.6252</td> <td>    1.935</td> <td>    0.323</td> <td> 0.747</td> <td>   -3.167</td> <td>    4.418</td>\n",
       "</tr>\n",
       "<tr>\n",
       "  <th>ma.L2</th>  <td>    0.6830</td> <td>    1.263</td> <td>    0.541</td> <td> 0.589</td> <td>   -1.793</td> <td>    3.159</td>\n",
       "</tr>\n",
       "<tr>\n",
       "  <th>ma.L3</th>  <td>    0.8187</td> <td>    1.480</td> <td>    0.553</td> <td> 0.580</td> <td>   -2.083</td> <td>    3.720</td>\n",
       "</tr>\n",
       "<tr>\n",
       "  <th>ma.L4</th>  <td>   -0.1796</td> <td>    1.686</td> <td>   -0.107</td> <td> 0.915</td> <td>   -3.483</td> <td>    3.124</td>\n",
       "</tr>\n",
       "<tr>\n",
       "  <th>sigma2</th> <td> 9.442e+10</td> <td>    0.002</td> <td> 4.27e+13</td> <td> 0.000</td> <td> 9.44e+10</td> <td> 9.44e+10</td>\n",
       "</tr>\n",
       "</table>\n",
       "<table class=\"simpletable\">\n",
       "<tr>\n",
       "  <th>Ljung-Box (L1) (Q):</th>     <td>0.02</td> <th>  Jarque-Bera (JB):  </th> <td>3.30</td>\n",
       "</tr>\n",
       "<tr>\n",
       "  <th>Prob(Q):</th>                <td>0.90</td> <th>  Prob(JB):          </th> <td>0.19</td>\n",
       "</tr>\n",
       "<tr>\n",
       "  <th>Heteroskedasticity (H):</th> <td>0.67</td> <th>  Skew:              </th> <td>0.53</td>\n",
       "</tr>\n",
       "<tr>\n",
       "  <th>Prob(H) (two-sided):</th>    <td>0.45</td> <th>  Kurtosis:          </th> <td>3.78</td>\n",
       "</tr>\n",
       "</table><br/><br/>Warnings:<br/>[1] Covariance matrix calculated using the outer product of gradients (complex-step).<br/>[2] Covariance matrix is singular or near-singular, with condition number 1.24e+32. Standard errors may be unstable."
      ],
      "text/plain": [
       "<class 'statsmodels.iolib.summary.Summary'>\n",
       "\"\"\"\n",
       "                               SARIMAX Results                                \n",
       "==============================================================================\n",
       "Dep. Variable:                  VALUE   No. Observations:                   46\n",
       "Model:                 ARIMA(5, 0, 4)   Log Likelihood                -647.046\n",
       "Date:                Sat, 19 Nov 2022   AIC                           1316.092\n",
       "Time:                        13:35:20   BIC                           1336.207\n",
       "Sample:                    04-01-2014   HQIC                          1323.628\n",
       "                         - 01-01-2018                                         \n",
       "Covariance Type:                  opg                                         \n",
       "==============================================================================\n",
       "                 coef    std err          z      P>|z|      [0.025      0.975]\n",
       "------------------------------------------------------------------------------\n",
       "const        7.61e+05   7.87e+04      9.669      0.000    6.07e+05    9.15e+05\n",
       "ar.L1         -0.7058      1.725     -0.409      0.682      -4.088       2.676\n",
       "ar.L2         -0.5121      1.316     -0.389      0.697      -3.092       2.067\n",
       "ar.L3         -0.5417      1.296     -0.418      0.676      -3.082       1.999\n",
       "ar.L4          0.4261      1.331      0.320      0.749      -2.182       3.034\n",
       "ar.L5          0.1665      0.511      0.326      0.744      -0.835       1.168\n",
       "ma.L1          0.6252      1.935      0.323      0.747      -3.167       4.418\n",
       "ma.L2          0.6830      1.263      0.541      0.589      -1.793       3.159\n",
       "ma.L3          0.8187      1.480      0.553      0.580      -2.083       3.720\n",
       "ma.L4         -0.1796      1.686     -0.107      0.915      -3.483       3.124\n",
       "sigma2      9.442e+10      0.002   4.27e+13      0.000    9.44e+10    9.44e+10\n",
       "===================================================================================\n",
       "Ljung-Box (L1) (Q):                   0.02   Jarque-Bera (JB):                 3.30\n",
       "Prob(Q):                              0.90   Prob(JB):                         0.19\n",
       "Heteroskedasticity (H):               0.67   Skew:                             0.53\n",
       "Prob(H) (two-sided):                  0.45   Kurtosis:                         3.78\n",
       "===================================================================================\n",
       "\n",
       "Warnings:\n",
       "[1] Covariance matrix calculated using the outer product of gradients (complex-step).\n",
       "[2] Covariance matrix is singular or near-singular, with condition number 1.24e+32. Standard errors may be unstable.\n",
       "\"\"\""
      ]
     },
     "execution_count": 147,
     "metadata": {},
     "output_type": "execute_result"
    }
   ],
   "source": [
    "final_model.summary()"
   ]
  },
  {
   "cell_type": "code",
   "execution_count": 148,
   "id": "899c10f8",
   "metadata": {},
   "outputs": [
    {
     "data": {
      "text/plain": [
       "2018-02-01    7.091206e+05\n",
       "2018-03-01    1.047530e+06\n",
       "2018-04-01    6.923973e+05\n",
       "2018-05-01    7.246994e+05\n",
       "2018-06-01    6.399808e+05\n",
       "2018-07-01    1.015550e+06\n",
       "2018-08-01    6.813893e+05\n",
       "Freq: MS, Name: predicted_mean, dtype: float64"
      ]
     },
     "execution_count": 148,
     "metadata": {},
     "output_type": "execute_result"
    }
   ],
   "source": [
    "prediction=final_model.predict(start=len(y),end=(len(y)+6))\n",
    "prediction"
   ]
  },
  {
   "cell_type": "code",
   "execution_count": 149,
   "id": "1203f3b6",
   "metadata": {},
   "outputs": [
    {
     "data": {
      "text/plain": [
       "<AxesSubplot:xlabel='Year-Month'>"
      ]
     },
     "execution_count": 149,
     "metadata": {},
     "output_type": "execute_result"
    },
    {
     "data": {
      "image/png": "[encoded data removed]",
      "text/plain": [
       "<Figure size 720x432 with 1 Axes>"
      ]
     },
     "metadata": {
      "needs_background": "light"
     },
     "output_type": "display_data"
    }
   ],
   "source": [
    "y.plot(legend=True,label='Train',figsize=(10,6))\n",
    "prediction.plot(legend=True,label='Prediction')"
   ]
  },
  {
   "cell_type": "code",
   "execution_count": 150,
   "id": "c6918ce7",
   "metadata": {},
   "outputs": [],
   "source": [
    "import itertools"
   ]
  },
  {
   "cell_type": "code",
   "execution_count": 151,
   "id": "4312323f",
   "metadata": {},
   "outputs": [],
   "source": [
    "p=range(0,8) #for AR\n",
    "q=range(0,8) #for MA\n",
    "d=range(0,2) #Generally not required more than 3 difference 0,1 & 2"
   ]
  },
  {
   "cell_type": "code",
   "execution_count": 152,
   "id": "86b2d595",
   "metadata": {},
   "outputs": [],
   "source": [
    "pdq_combination=list(itertools.product(p,d,q))"
   ]
  },
  {
   "cell_type": "code",
   "execution_count": 153,
   "id": "1571a7b0",
   "metadata": {},
   "outputs": [
    {
     "data": {
      "text/plain": [
       "128"
      ]
     },
     "execution_count": 153,
     "metadata": {},
     "output_type": "execute_result"
    }
   ],
   "source": [
    "len(pdq_combination)"
   ]
  },
  {
   "cell_type": "code",
   "execution_count": 154,
   "id": "671697d9",
   "metadata": {},
   "outputs": [],
   "source": [
    "rmse=[]\n",
    "order1=[]"
   ]
  },
  {
   "cell_type": "code",
   "execution_count": 155,
   "id": "4b5dac56",
   "metadata": {},
   "outputs": [],
   "source": [
    " for pdq in pdq_combination:\n",
    "    try:\n",
    "        model=ARIMA(train,order=pdq).fit()\n",
    "        pred=model.predict(start=len(train),end=(len(y)-1))\n",
    "        error=np.sqrt(mean_squared_error(test,pred))\n",
    "        order1.append(pdq)\n",
    "        rmse.append(error)\n",
    "        \n",
    "    except:\n",
    "        continue"
   ]
  },
  {
   "cell_type": "code",
   "execution_count": 156,
   "id": "52c79e36",
   "metadata": {},
   "outputs": [
    {
     "data": {
      "text/html": [
       "<div>\n",
       "<style scoped>\n",
       "    .dataframe tbody tr th:only-of-type {\n",
       "        vertical-align: middle;\n",
       "    }\n",
       "\n",
       "    .dataframe tbody tr th {\n",
       "        vertical-align: top;\n",
       "    }\n",
       "\n",
       "    .dataframe thead th {\n",
       "        text-align: right;\n",
       "    }\n",
       "</style>\n",
       "<table border=\"1\" class=\"dataframe\">\n",
       "  <thead>\n",
       "    <tr style=\"text-align: right;\">\n",
       "      <th></th>\n",
       "      <th>RMSE</th>\n",
       "    </tr>\n",
       "  </thead>\n",
       "  <tbody>\n",
       "    <tr>\n",
       "      <th>(0, 0, 0)</th>\n",
       "      <td>317365.181228</td>\n",
       "    </tr>\n",
       "    <tr>\n",
       "      <th>(0, 0, 1)</th>\n",
       "      <td>317511.209411</td>\n",
       "    </tr>\n",
       "    <tr>\n",
       "      <th>(0, 0, 2)</th>\n",
       "      <td>317766.618472</td>\n",
       "    </tr>\n",
       "    <tr>\n",
       "      <th>(0, 0, 3)</th>\n",
       "      <td>319942.240046</td>\n",
       "    </tr>\n",
       "    <tr>\n",
       "      <th>(0, 0, 4)</th>\n",
       "      <td>312148.307158</td>\n",
       "    </tr>\n",
       "  </tbody>\n",
       "</table>\n",
       "</div>"
      ],
      "text/plain": [
       "                    RMSE\n",
       "(0, 0, 0)  317365.181228\n",
       "(0, 0, 1)  317511.209411\n",
       "(0, 0, 2)  317766.618472\n",
       "(0, 0, 3)  319942.240046\n",
       "(0, 0, 4)  312148.307158"
      ]
     },
     "execution_count": 156,
     "metadata": {},
     "output_type": "execute_result"
    }
   ],
   "source": [
    "results=pd.DataFrame(index=order,data=rmse,columns=['RMSE'])\n",
    "results.head()"
   ]
  },
  {
   "cell_type": "code",
   "execution_count": 157,
   "id": "4c27e1b2",
   "metadata": {},
   "outputs": [],
   "source": [
    "results_sort=results.sort_values('RMSE')"
   ]
  },
  {
   "cell_type": "code",
   "execution_count": 158,
   "id": "6eed462a",
   "metadata": {},
   "outputs": [
    {
     "data": {
      "text/html": [
       "<div>\n",
       "<style scoped>\n",
       "    .dataframe tbody tr th:only-of-type {\n",
       "        vertical-align: middle;\n",
       "    }\n",
       "\n",
       "    .dataframe tbody tr th {\n",
       "        vertical-align: top;\n",
       "    }\n",
       "\n",
       "    .dataframe thead th {\n",
       "        text-align: right;\n",
       "    }\n",
       "</style>\n",
       "<table border=\"1\" class=\"dataframe\">\n",
       "  <thead>\n",
       "    <tr style=\"text-align: right;\">\n",
       "      <th></th>\n",
       "      <th>RMSE</th>\n",
       "    </tr>\n",
       "  </thead>\n",
       "  <tbody>\n",
       "    <tr>\n",
       "      <th>(2, 0, 7)</th>\n",
       "      <td>248379.313516</td>\n",
       "    </tr>\n",
       "    <tr>\n",
       "      <th>(1, 0, 7)</th>\n",
       "      <td>251022.828906</td>\n",
       "    </tr>\n",
       "    <tr>\n",
       "      <th>(0, 0, 7)</th>\n",
       "      <td>253689.773351</td>\n",
       "    </tr>\n",
       "    <tr>\n",
       "      <th>(3, 0, 7)</th>\n",
       "      <td>263453.676373</td>\n",
       "    </tr>\n",
       "    <tr>\n",
       "      <th>(4, 0, 3)</th>\n",
       "      <td>265998.070651</td>\n",
       "    </tr>\n",
       "  </tbody>\n",
       "</table>\n",
       "</div>"
      ],
      "text/plain": [
       "                    RMSE\n",
       "(2, 0, 7)  248379.313516\n",
       "(1, 0, 7)  251022.828906\n",
       "(0, 0, 7)  253689.773351\n",
       "(3, 0, 7)  263453.676373\n",
       "(4, 0, 3)  265998.070651"
      ]
     },
     "execution_count": 158,
     "metadata": {},
     "output_type": "execute_result"
    }
   ],
   "source": [
    "results_sort.head()"
   ]
  },
  {
   "cell_type": "code",
   "execution_count": 159,
   "id": "5ca3286e",
   "metadata": {},
   "outputs": [
    {
     "data": {
      "text/plain": [
       "<statsmodels.tsa.arima.model.ARIMAResultsWrapper at 0x2039d689130>"
      ]
     },
     "execution_count": 159,
     "metadata": {},
     "output_type": "execute_result"
    }
   ],
   "source": [
    "model=ARIMA(train,order=(2,0,7)).fit() ## assuming p-2,q-0,d-7\n",
    "model"
   ]
  },
  {
   "cell_type": "code",
   "execution_count": 160,
   "id": "89254675",
   "metadata": {},
   "outputs": [],
   "source": [
    "import warnings\n",
    "warnings.filterwarnings('ignore')"
   ]
  },
  {
   "cell_type": "code",
   "execution_count": 283,
   "id": "f738421d",
   "metadata": {},
   "outputs": [
    {
     "data": {
      "text/plain": [
       "2016-12-01    6.951826e+05\n",
       "2017-01-01    9.881884e+05\n",
       "2017-02-01    7.381164e+05\n",
       "2017-03-01    1.129617e+06\n",
       "2017-04-01    6.437094e+05\n",
       "Freq: MS, Name: predicted_mean, dtype: float64"
      ]
     },
     "execution_count": 283,
     "metadata": {},
     "output_type": "execute_result"
    }
   ],
   "source": [
    "pred3=model.predict(start=len(train),end=(len(y)-1))\n",
    "pred3.head()"
   ]
  },
  {
   "cell_type": "code",
   "execution_count": 284,
   "id": "b3cd5700",
   "metadata": {},
   "outputs": [
    {
     "data": {
      "text/plain": [
       "2017-09-01    789587.358123\n",
       "2017-10-01    759763.392994\n",
       "2017-11-01    784817.619158\n",
       "2017-12-01    768274.575244\n",
       "2018-01-01    780915.500261\n",
       "Freq: MS, Name: predicted_mean, dtype: float64"
      ]
     },
     "execution_count": 284,
     "metadata": {},
     "output_type": "execute_result"
    }
   ],
   "source": [
    "pred3.tail()"
   ]
  },
  {
   "cell_type": "code",
   "execution_count": 285,
   "id": "8147a634",
   "metadata": {},
   "outputs": [
    {
     "data": {
      "text/plain": [
       "248379.31351601452"
      ]
     },
     "execution_count": 285,
     "metadata": {},
     "output_type": "execute_result"
    }
   ],
   "source": [
    "from sklearn.metrics import mean_squared_error\n",
    "error.sqrt(mean_squared_error(test, pred))\n",
    "error"
   ]
  },
  {
   "cell_type": "code",
   "execution_count": 286,
   "id": "625a7e43",
   "metadata": {},
   "outputs": [
    {
     "data": {
      "text/plain": [
       "<AxesSubplot:xlabel='Year-Month'>"
      ]
     },
     "execution_count": 286,
     "metadata": {},
     "output_type": "execute_result"
    },
    {
     "data": {
      "image/png": "[encoded data removed]",
      "text/plain": [
       "<Figure size 1080x432 with 1 Axes>"
      ]
     },
     "metadata": {
      "needs_background": "light"
     },
     "output_type": "display_data"
    }
   ],
   "source": [
    "train.plot(legend=True,label='Train',figsize=(15,6))\n",
    "test.plot(legend=True,label='Test')\n",
    "pred.plot(legend=True,label='Prediction')"
   ]
  },
  {
   "cell_type": "markdown",
   "id": "b644bbc6",
   "metadata": {},
   "source": [
    "# Applying ARIMA Model on Haryana state"
   ]
  },
  {
   "cell_type": "code",
   "execution_count": 311,
   "id": "6b9d7fca",
   "metadata": {},
   "outputs": [
    {
     "data": {
      "image/png": "[encoded data removed]",
      "text/plain": [
       "<Figure size 432x288 with 4 Axes>"
      ]
     },
     "metadata": {
      "needs_background": "light"
     },
     "output_type": "display_data"
    }
   ],
   "source": [
    "decomposition=sm.tsa.seasonal_decompose(HR,model='additive')\n",
    "fig=decomposition.plot()\n",
    "plt.show()"
   ]
  },
  {
   "cell_type": "code",
   "execution_count": 312,
   "id": "afb0592e",
   "metadata": {},
   "outputs": [
    {
     "name": "stdout",
     "output_type": "stream",
     "text": [
      "train data 32\n",
      "test data 14\n"
     ]
    }
   ],
   "source": [
    "print('train data',len(train1))\n",
    "print('test data',len(test1))"
   ]
  },
  {
   "cell_type": "code",
   "execution_count": 313,
   "id": "12bfb729",
   "metadata": {},
   "outputs": [],
   "source": [
    "#Assuming 5,0,4 as p,d,q\n",
    "modelhr=ARIMA(train1,order=(5,0,4)).fit() "
   ]
  },
  {
   "cell_type": "code",
   "execution_count": 314,
   "id": "ac6291b2",
   "metadata": {},
   "outputs": [
    {
     "data": {
      "text/plain": [
       "(32, 45)"
      ]
     },
     "execution_count": 314,
     "metadata": {},
     "output_type": "execute_result"
    }
   ],
   "source": [
    "len(train1),(len(y1)-1)"
   ]
  },
  {
   "cell_type": "code",
   "execution_count": 315,
   "id": "202ffc7e",
   "metadata": {},
   "outputs": [],
   "source": [
    "predhr=model.predict(start=len(train1),end=(len(y1)-1))"
   ]
  },
  {
   "cell_type": "code",
   "execution_count": 316,
   "id": "8d1f9fc1",
   "metadata": {},
   "outputs": [
    {
     "data": {
      "text/plain": [
       "2017-09-01    129519.298650\n",
       "2017-10-01    153522.873989\n",
       "2017-11-01    123950.384689\n",
       "2017-12-01     82823.983245\n",
       "2018-01-01     85886.912187\n",
       "Freq: MS, Name: predicted_mean, dtype: float64"
      ]
     },
     "execution_count": 316,
     "metadata": {},
     "output_type": "execute_result"
    }
   ],
   "source": [
    "predhr.tail()"
   ]
  },
  {
   "cell_type": "code",
   "execution_count": 317,
   "id": "75256ba4",
   "metadata": {},
   "outputs": [
    {
     "data": {
      "text/plain": [
       "62324.861971769504"
      ]
     },
     "execution_count": 317,
     "metadata": {},
     "output_type": "execute_result"
    }
   ],
   "source": [
    "errorhr=np.sqrt(mean_squared_error(test1,predhr))\n",
    "errorhr"
   ]
  },
  {
   "cell_type": "code",
   "execution_count": 318,
   "id": "dd30e7af",
   "metadata": {},
   "outputs": [
    {
     "data": {
      "text/plain": [
       "<AxesSubplot:xlabel='Year-Month'>"
      ]
     },
     "execution_count": 318,
     "metadata": {},
     "output_type": "execute_result"
    },
    {
     "data": {
      "image/png": "[encoded data removed]",
      "text/plain": [
       "<Figure size 864x432 with 1 Axes>"
      ]
     },
     "metadata": {
      "needs_background": "light"
     },
     "output_type": "display_data"
    }
   ],
   "source": [
    "train1.plot(legend=True,label='Train1',figsize=(12,6))\n",
    "test1.plot(legend=True,label='Test1')\n",
    "predhr.plot(legend=True,label='Prediction')"
   ]
  },
  {
   "cell_type": "code",
   "execution_count": 319,
   "id": "170659e0",
   "metadata": {},
   "outputs": [],
   "source": [
    "#our assumption for p ,d and q seems wrong"
   ]
  },
  {
   "cell_type": "code",
   "execution_count": 320,
   "id": "8681214e",
   "metadata": {},
   "outputs": [],
   "source": [
    "final_modelhr=ARIMA(y,order=(5,0,4)).fit() "
   ]
  },
  {
   "cell_type": "code",
   "execution_count": 321,
   "id": "783545b8",
   "metadata": {},
   "outputs": [
    {
     "data": {
      "text/html": [
       "<table class=\"simpletable\">\n",
       "<caption>SARIMAX Results</caption>\n",
       "<tr>\n",
       "  <th>Dep. Variable:</th>         <td>VALUE</td>      <th>  No. Observations:  </th>    <td>46</td>   \n",
       "</tr>\n",
       "<tr>\n",
       "  <th>Model:</th>            <td>ARIMA(5, 0, 4)</td>  <th>  Log Likelihood     </th> <td>-647.046</td>\n",
       "</tr>\n",
       "<tr>\n",
       "  <th>Date:</th>            <td>Fri, 18 Nov 2022</td> <th>  AIC                </th> <td>1316.092</td>\n",
       "</tr>\n",
       "<tr>\n",
       "  <th>Time:</th>                <td>19:18:42</td>     <th>  BIC                </th> <td>1336.207</td>\n",
       "</tr>\n",
       "<tr>\n",
       "  <th>Sample:</th>             <td>04-01-2014</td>    <th>  HQIC               </th> <td>1323.628</td>\n",
       "</tr>\n",
       "<tr>\n",
       "  <th></th>                   <td>- 01-01-2018</td>   <th>                     </th>     <td> </td>   \n",
       "</tr>\n",
       "<tr>\n",
       "  <th>Covariance Type:</th>        <td>opg</td>       <th>                     </th>     <td> </td>   \n",
       "</tr>\n",
       "</table>\n",
       "<table class=\"simpletable\">\n",
       "<tr>\n",
       "     <td></td>       <th>coef</th>     <th>std err</th>      <th>z</th>      <th>P>|z|</th>  <th>[0.025</th>    <th>0.975]</th>  \n",
       "</tr>\n",
       "<tr>\n",
       "  <th>const</th>  <td>  7.61e+05</td> <td> 7.87e+04</td> <td>    9.669</td> <td> 0.000</td> <td> 6.07e+05</td> <td> 9.15e+05</td>\n",
       "</tr>\n",
       "<tr>\n",
       "  <th>ar.L1</th>  <td>   -0.7058</td> <td>    1.725</td> <td>   -0.409</td> <td> 0.682</td> <td>   -4.088</td> <td>    2.676</td>\n",
       "</tr>\n",
       "<tr>\n",
       "  <th>ar.L2</th>  <td>   -0.5121</td> <td>    1.316</td> <td>   -0.389</td> <td> 0.697</td> <td>   -3.092</td> <td>    2.067</td>\n",
       "</tr>\n",
       "<tr>\n",
       "  <th>ar.L3</th>  <td>   -0.5417</td> <td>    1.296</td> <td>   -0.418</td> <td> 0.676</td> <td>   -3.082</td> <td>    1.999</td>\n",
       "</tr>\n",
       "<tr>\n",
       "  <th>ar.L4</th>  <td>    0.4261</td> <td>    1.331</td> <td>    0.320</td> <td> 0.749</td> <td>   -2.182</td> <td>    3.034</td>\n",
       "</tr>\n",
       "<tr>\n",
       "  <th>ar.L5</th>  <td>    0.1665</td> <td>    0.511</td> <td>    0.326</td> <td> 0.744</td> <td>   -0.835</td> <td>    1.168</td>\n",
       "</tr>\n",
       "<tr>\n",
       "  <th>ma.L1</th>  <td>    0.6252</td> <td>    1.935</td> <td>    0.323</td> <td> 0.747</td> <td>   -3.167</td> <td>    4.418</td>\n",
       "</tr>\n",
       "<tr>\n",
       "  <th>ma.L2</th>  <td>    0.6830</td> <td>    1.263</td> <td>    0.541</td> <td> 0.589</td> <td>   -1.793</td> <td>    3.159</td>\n",
       "</tr>\n",
       "<tr>\n",
       "  <th>ma.L3</th>  <td>    0.8187</td> <td>    1.480</td> <td>    0.553</td> <td> 0.580</td> <td>   -2.083</td> <td>    3.720</td>\n",
       "</tr>\n",
       "<tr>\n",
       "  <th>ma.L4</th>  <td>   -0.1796</td> <td>    1.686</td> <td>   -0.107</td> <td> 0.915</td> <td>   -3.483</td> <td>    3.124</td>\n",
       "</tr>\n",
       "<tr>\n",
       "  <th>sigma2</th> <td> 9.442e+10</td> <td>    0.002</td> <td> 4.27e+13</td> <td> 0.000</td> <td> 9.44e+10</td> <td> 9.44e+10</td>\n",
       "</tr>\n",
       "</table>\n",
       "<table class=\"simpletable\">\n",
       "<tr>\n",
       "  <th>Ljung-Box (L1) (Q):</th>     <td>0.02</td> <th>  Jarque-Bera (JB):  </th> <td>3.30</td>\n",
       "</tr>\n",
       "<tr>\n",
       "  <th>Prob(Q):</th>                <td>0.90</td> <th>  Prob(JB):          </th> <td>0.19</td>\n",
       "</tr>\n",
       "<tr>\n",
       "  <th>Heteroskedasticity (H):</th> <td>0.67</td> <th>  Skew:              </th> <td>0.53</td>\n",
       "</tr>\n",
       "<tr>\n",
       "  <th>Prob(H) (two-sided):</th>    <td>0.45</td> <th>  Kurtosis:          </th> <td>3.78</td>\n",
       "</tr>\n",
       "</table><br/><br/>Warnings:<br/>[1] Covariance matrix calculated using the outer product of gradients (complex-step).<br/>[2] Covariance matrix is singular or near-singular, with condition number 1.24e+32. Standard errors may be unstable."
      ],
      "text/plain": [
       "<class 'statsmodels.iolib.summary.Summary'>\n",
       "\"\"\"\n",
       "                               SARIMAX Results                                \n",
       "==============================================================================\n",
       "Dep. Variable:                  VALUE   No. Observations:                   46\n",
       "Model:                 ARIMA(5, 0, 4)   Log Likelihood                -647.046\n",
       "Date:                Fri, 18 Nov 2022   AIC                           1316.092\n",
       "Time:                        19:18:42   BIC                           1336.207\n",
       "Sample:                    04-01-2014   HQIC                          1323.628\n",
       "                         - 01-01-2018                                         \n",
       "Covariance Type:                  opg                                         \n",
       "==============================================================================\n",
       "                 coef    std err          z      P>|z|      [0.025      0.975]\n",
       "------------------------------------------------------------------------------\n",
       "const        7.61e+05   7.87e+04      9.669      0.000    6.07e+05    9.15e+05\n",
       "ar.L1         -0.7058      1.725     -0.409      0.682      -4.088       2.676\n",
       "ar.L2         -0.5121      1.316     -0.389      0.697      -3.092       2.067\n",
       "ar.L3         -0.5417      1.296     -0.418      0.676      -3.082       1.999\n",
       "ar.L4          0.4261      1.331      0.320      0.749      -2.182       3.034\n",
       "ar.L5          0.1665      0.511      0.326      0.744      -0.835       1.168\n",
       "ma.L1          0.6252      1.935      0.323      0.747      -3.167       4.418\n",
       "ma.L2          0.6830      1.263      0.541      0.589      -1.793       3.159\n",
       "ma.L3          0.8187      1.480      0.553      0.580      -2.083       3.720\n",
       "ma.L4         -0.1796      1.686     -0.107      0.915      -3.483       3.124\n",
       "sigma2      9.442e+10      0.002   4.27e+13      0.000    9.44e+10    9.44e+10\n",
       "===================================================================================\n",
       "Ljung-Box (L1) (Q):                   0.02   Jarque-Bera (JB):                 3.30\n",
       "Prob(Q):                              0.90   Prob(JB):                         0.19\n",
       "Heteroskedasticity (H):               0.67   Skew:                             0.53\n",
       "Prob(H) (two-sided):                  0.45   Kurtosis:                         3.78\n",
       "===================================================================================\n",
       "\n",
       "Warnings:\n",
       "[1] Covariance matrix calculated using the outer product of gradients (complex-step).\n",
       "[2] Covariance matrix is singular or near-singular, with condition number 1.24e+32. Standard errors may be unstable.\n",
       "\"\"\""
      ]
     },
     "execution_count": 321,
     "metadata": {},
     "output_type": "execute_result"
    }
   ],
   "source": [
    "final_modelhr.summary()"
   ]
  },
  {
   "cell_type": "code",
   "execution_count": 322,
   "id": "75075464",
   "metadata": {},
   "outputs": [
    {
     "data": {
      "text/plain": [
       "2018-02-01    7.091206e+05\n",
       "2018-03-01    1.047530e+06\n",
       "2018-04-01    6.923973e+05\n",
       "2018-05-01    7.246994e+05\n",
       "2018-06-01    6.399808e+05\n",
       "2018-07-01    1.015550e+06\n",
       "2018-08-01    6.813893e+05\n",
       "Freq: MS, Name: predicted_mean, dtype: float64"
      ]
     },
     "execution_count": 322,
     "metadata": {},
     "output_type": "execute_result"
    }
   ],
   "source": [
    "predictionhr=final_modelhr.predict(start=len(y1),end=(len(y1)+6))\n",
    "predictionhr"
   ]
  },
  {
   "cell_type": "code",
   "execution_count": 323,
   "id": "8f8fd25a",
   "metadata": {},
   "outputs": [
    {
     "data": {
      "text/plain": [
       "<AxesSubplot:xlabel='Year-Month'>"
      ]
     },
     "execution_count": 323,
     "metadata": {},
     "output_type": "execute_result"
    },
    {
     "data": {
      "image/png": "[encoded data removed]",
      "text/plain": [
       "<Figure size 720x432 with 1 Axes>"
      ]
     },
     "metadata": {
      "needs_background": "light"
     },
     "output_type": "display_data"
    }
   ],
   "source": [
    "y1.plot(legend=True,label='Train',figsize=(10,6))\n",
    "predictionhr.plot(legend=True,label='Prediction')"
   ]
  },
  {
   "cell_type": "code",
   "execution_count": 324,
   "id": "472ea8a6",
   "metadata": {},
   "outputs": [],
   "source": [
    "import itertools\n",
    "p=range(0,8) #for AR\n",
    "q=range(0,8) #for MA\n",
    "d=range(0,2) #Generally not required more than 3 difference 0,1 & 2"
   ]
  },
  {
   "cell_type": "code",
   "execution_count": 325,
   "id": "b29788a9",
   "metadata": {},
   "outputs": [],
   "source": [
    "pdq_combination=list(itertools.product(p,d,q))"
   ]
  },
  {
   "cell_type": "code",
   "execution_count": 326,
   "id": "a919fcba",
   "metadata": {},
   "outputs": [
    {
     "data": {
      "text/plain": [
       "128"
      ]
     },
     "execution_count": 326,
     "metadata": {},
     "output_type": "execute_result"
    }
   ],
   "source": [
    "len(pdq_combination)"
   ]
  },
  {
   "cell_type": "code",
   "execution_count": 330,
   "id": "3e402ace",
   "metadata": {},
   "outputs": [],
   "source": [
    "rmsehr=[]\n",
    "orderhr=[]"
   ]
  },
  {
   "cell_type": "code",
   "execution_count": 329,
   "id": "8f3d1aa2",
   "metadata": {},
   "outputs": [],
   "source": [
    " for pdq in pdq_combination:\n",
    "    try:\n",
    "        modelhr=ARIMA(train1,order=pdq).fit()\n",
    "        predhr=modelhr.predict(start=len(train1),end=(len(y1)-1))\n",
    "        errorhr=np.sqrt(mean_squared_error(test1,predhr))\n",
    "        orderhr.append(pdq)\n",
    "        rmsehr.append(errorhr)\n",
    "        \n",
    "    except:\n",
    "        continue"
   ]
  },
  {
   "cell_type": "code",
   "execution_count": 328,
   "id": "9d71b4d2",
   "metadata": {},
   "outputs": [
    {
     "data": {
      "text/html": [
       "<div>\n",
       "<style scoped>\n",
       "    .dataframe tbody tr th:only-of-type {\n",
       "        vertical-align: middle;\n",
       "    }\n",
       "\n",
       "    .dataframe tbody tr th {\n",
       "        vertical-align: top;\n",
       "    }\n",
       "\n",
       "    .dataframe thead th {\n",
       "        text-align: right;\n",
       "    }\n",
       "</style>\n",
       "<table border=\"1\" class=\"dataframe\">\n",
       "  <thead>\n",
       "    <tr style=\"text-align: right;\">\n",
       "      <th></th>\n",
       "      <th>RMSE</th>\n",
       "    </tr>\n",
       "  </thead>\n",
       "  <tbody>\n",
       "    <tr>\n",
       "      <th>(0, 0, 0)</th>\n",
       "      <td>466173.536635</td>\n",
       "    </tr>\n",
       "    <tr>\n",
       "      <th>(0, 0, 1)</th>\n",
       "      <td>466173.536635</td>\n",
       "    </tr>\n",
       "    <tr>\n",
       "      <th>(0, 0, 2)</th>\n",
       "      <td>466173.536635</td>\n",
       "    </tr>\n",
       "    <tr>\n",
       "      <th>(0, 0, 3)</th>\n",
       "      <td>466173.536635</td>\n",
       "    </tr>\n",
       "    <tr>\n",
       "      <th>(0, 0, 4)</th>\n",
       "      <td>466173.536635</td>\n",
       "    </tr>\n",
       "  </tbody>\n",
       "</table>\n",
       "</div>"
      ],
      "text/plain": [
       "                    RMSE\n",
       "(0, 0, 0)  466173.536635\n",
       "(0, 0, 1)  466173.536635\n",
       "(0, 0, 2)  466173.536635\n",
       "(0, 0, 3)  466173.536635\n",
       "(0, 0, 4)  466173.536635"
      ]
     },
     "execution_count": 328,
     "metadata": {},
     "output_type": "execute_result"
    }
   ],
   "source": [
    "resultshr=pd.DataFrame(index=orderhr,data=rmsehr,columns=['RMSE'])\n",
    "resultshr.head()"
   ]
  },
  {
   "cell_type": "code",
   "execution_count": 310,
   "id": "5bc6ca31",
   "metadata": {},
   "outputs": [
    {
     "data": {
      "text/html": [
       "<div>\n",
       "<style scoped>\n",
       "    .dataframe tbody tr th:only-of-type {\n",
       "        vertical-align: middle;\n",
       "    }\n",
       "\n",
       "    .dataframe tbody tr th {\n",
       "        vertical-align: top;\n",
       "    }\n",
       "\n",
       "    .dataframe thead th {\n",
       "        text-align: right;\n",
       "    }\n",
       "</style>\n",
       "<table border=\"1\" class=\"dataframe\">\n",
       "  <thead>\n",
       "    <tr style=\"text-align: right;\">\n",
       "      <th></th>\n",
       "      <th>RMSE</th>\n",
       "    </tr>\n",
       "  </thead>\n",
       "  <tbody>\n",
       "    <tr>\n",
       "      <th>(0, 0, 0)</th>\n",
       "      <td>466173.536635</td>\n",
       "    </tr>\n",
       "    <tr>\n",
       "      <th>(5, 1, 3)</th>\n",
       "      <td>466173.536635</td>\n",
       "    </tr>\n",
       "    <tr>\n",
       "      <th>(5, 1, 2)</th>\n",
       "      <td>466173.536635</td>\n",
       "    </tr>\n",
       "    <tr>\n",
       "      <th>(5, 1, 1)</th>\n",
       "      <td>466173.536635</td>\n",
       "    </tr>\n",
       "    <tr>\n",
       "      <th>(5, 1, 0)</th>\n",
       "      <td>466173.536635</td>\n",
       "    </tr>\n",
       "  </tbody>\n",
       "</table>\n",
       "</div>"
      ],
      "text/plain": [
       "                    RMSE\n",
       "(0, 0, 0)  466173.536635\n",
       "(5, 1, 3)  466173.536635\n",
       "(5, 1, 2)  466173.536635\n",
       "(5, 1, 1)  466173.536635\n",
       "(5, 1, 0)  466173.536635"
      ]
     },
     "execution_count": 310,
     "metadata": {},
     "output_type": "execute_result"
    }
   ],
   "source": [
    "resultshr_sort=resultshr.sort_values('RMSE')\n",
    "resultshr_sort.head()"
   ]
  },
  {
   "cell_type": "code",
   "execution_count": null,
   "id": "7b6b5afc",
   "metadata": {},
   "outputs": [],
   "source": []
  },
  {
   "cell_type": "code",
   "execution_count": null,
   "id": "3155c298",
   "metadata": {},
   "outputs": [],
   "source": []
  },
  {
   "cell_type": "code",
   "execution_count": null,
   "id": "1a9151e6",
   "metadata": {},
   "outputs": [],
   "source": []
  },
  {
   "cell_type": "code",
   "execution_count": null,
   "id": "55c99fba",
   "metadata": {},
   "outputs": [],
   "source": []
  }
 ],
 "metadata": {
  "kernelspec": {
   "display_name": "Python 3 (ipykernel)",
   "language": "python",
   "name": "python3"
  },
  "language_info": {
   "codemirror_mode": {
    "name": "ipython",
    "version": 3
   },
   "file_extension": ".py",
   "mimetype": "text/x-python",
   "name": "python",
   "nbconvert_exporter": "python",
   "pygments_lexer": "ipython3",
   "version": "3.9.12"
  }
 },
 "nbformat": 4,
 "nbformat_minor": 5
}
