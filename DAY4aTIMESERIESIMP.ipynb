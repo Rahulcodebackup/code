{
 "cells": [
  {
   "cell_type": "code",
   "execution_count": 1,
   "id": "32071511",
   "metadata": {},
   "outputs": [],
   "source": [
    "import pandas as pd\n",
    "import os \n",
    "import numpy as np\n",
    "from sklearn import linear_model\n",
    "import matplotlib.pyplot as plt"
   ]
  },
  {
   "cell_type": "code",
   "execution_count": 2,
   "id": "8d6faa55",
   "metadata": {},
   "outputs": [],
   "source": [
    "os.chdir('E:/Python/DAY4')"
   ]
  },
  {
   "cell_type": "code",
   "execution_count": 3,
   "id": "b1718908",
   "metadata": {},
   "outputs": [],
   "source": [
    "df =  pd.read_csv('dailysales.csv',parse_dates=['date'],index_col=['date']) \n",
    "#Parse_dates makes comp understand that its a date\n",
    "#indexcol makes date as index column"
   ]
  },
  {
   "cell_type": "code",
   "execution_count": 4,
   "id": "c9ee6fd2",
   "metadata": {},
   "outputs": [
    {
     "data": {
      "text/html": [
       "<div>\n",
       "<style scoped>\n",
       "    .dataframe tbody tr th:only-of-type {\n",
       "        vertical-align: middle;\n",
       "    }\n",
       "\n",
       "    .dataframe tbody tr th {\n",
       "        vertical-align: top;\n",
       "    }\n",
       "\n",
       "    .dataframe thead th {\n",
       "        text-align: right;\n",
       "    }\n",
       "</style>\n",
       "<table border=\"1\" class=\"dataframe\">\n",
       "  <thead>\n",
       "    <tr style=\"text-align: right;\">\n",
       "      <th></th>\n",
       "      <th>sales</th>\n",
       "    </tr>\n",
       "    <tr>\n",
       "      <th>date</th>\n",
       "      <th></th>\n",
       "    </tr>\n",
       "  </thead>\n",
       "  <tbody>\n",
       "    <tr>\n",
       "      <th>2018-01-01</th>\n",
       "      <td>477.0</td>\n",
       "    </tr>\n",
       "    <tr>\n",
       "      <th>2018-01-02</th>\n",
       "      <td>365.0</td>\n",
       "    </tr>\n",
       "    <tr>\n",
       "      <th>2018-01-03</th>\n",
       "      <td>442.0</td>\n",
       "    </tr>\n",
       "    <tr>\n",
       "      <th>2018-01-04</th>\n",
       "      <td>490.0</td>\n",
       "    </tr>\n",
       "    <tr>\n",
       "      <th>2018-01-05</th>\n",
       "      <td>396.0</td>\n",
       "    </tr>\n",
       "  </tbody>\n",
       "</table>\n",
       "</div>"
      ],
      "text/plain": [
       "            sales\n",
       "date             \n",
       "2018-01-01  477.0\n",
       "2018-01-02  365.0\n",
       "2018-01-03  442.0\n",
       "2018-01-04  490.0\n",
       "2018-01-05  396.0"
      ]
     },
     "execution_count": 4,
     "metadata": {},
     "output_type": "execute_result"
    }
   ],
   "source": [
    "df.head()"
   ]
  },
  {
   "cell_type": "code",
   "execution_count": 5,
   "id": "b5f56f9c",
   "metadata": {},
   "outputs": [
    {
     "data": {
      "text/plain": [
       "(704, 1)"
      ]
     },
     "execution_count": 5,
     "metadata": {},
     "output_type": "execute_result"
    }
   ],
   "source": [
    "df.shape"
   ]
  },
  {
   "cell_type": "markdown",
   "id": "451c2c91",
   "metadata": {},
   "source": [
    "### Resampling data STEP 2 (Making Montly sales)"
   ]
  },
  {
   "cell_type": "code",
   "execution_count": 6,
   "id": "dedae9e3",
   "metadata": {},
   "outputs": [],
   "source": [
    "ts=df[\"sales\"].resample('M').sum() #dates will be displayed as month end #sum makees daily sales as monthly"
   ]
  },
  {
   "cell_type": "code",
   "execution_count": 7,
   "id": "22e10582",
   "metadata": {},
   "outputs": [
    {
     "data": {
      "text/plain": [
       "date\n",
       "2018-01-31     9035.0\n",
       "2018-02-28     9571.0\n",
       "2018-03-31    13143.0\n",
       "2018-04-30    12427.0\n",
       "2018-05-31     8133.0\n",
       "Freq: M, Name: sales, dtype: float64"
      ]
     },
     "execution_count": 7,
     "metadata": {},
     "output_type": "execute_result"
    }
   ],
   "source": [
    "ts.head()"
   ]
  },
  {
   "cell_type": "code",
   "execution_count": 8,
   "id": "5b0d3ff4",
   "metadata": {},
   "outputs": [],
   "source": [
    "ts1=df[\"sales\"].resample('MS').sum() #MS used for monthly start"
   ]
  },
  {
   "cell_type": "code",
   "execution_count": 9,
   "id": "ee2a8ab0",
   "metadata": {},
   "outputs": [
    {
     "data": {
      "text/plain": [
       "date\n",
       "2018-01-01     9035.0\n",
       "2018-02-01     9571.0\n",
       "2018-03-01    13143.0\n",
       "2018-04-01    12427.0\n",
       "2018-05-01     8133.0\n",
       "Freq: MS, Name: sales, dtype: float64"
      ]
     },
     "execution_count": 9,
     "metadata": {},
     "output_type": "execute_result"
    }
   ],
   "source": [
    "ts1.head()"
   ]
  },
  {
   "cell_type": "code",
   "execution_count": 10,
   "id": "897be80e",
   "metadata": {},
   "outputs": [
    {
     "data": {
      "text/plain": [
       "<AxesSubplot:xlabel='date'>"
      ]
     },
     "execution_count": 10,
     "metadata": {},
     "output_type": "execute_result"
    },
    {
     "data": {
      "image/png": "[encoded data removed]",
      "text/plain": [
       "<Figure size 432x288 with 1 Axes>"
      ]
     },
     "metadata": {
      "needs_background": "light"
     },
     "output_type": "display_data"
    }
   ],
   "source": [
    "ts.plot()"
   ]
  },
  {
   "cell_type": "markdown",
   "id": "f86f17d7",
   "metadata": {},
   "source": [
    "# Stationary check"
   ]
  },
  {
   "cell_type": "markdown",
   "id": "6fd967ee",
   "metadata": {},
   "source": [
    "#### series having constant mean,variance and autocorelation it is stationary "
   ]
  },
  {
   "cell_type": "code",
   "execution_count": 11,
   "id": "0653c501",
   "metadata": {},
   "outputs": [],
   "source": [
    "#series having no trend no seasonality ,it is stationary\n",
    "#Null hypthess time series is non stationary\n",
    "#Alternative hypthess time series is stationary\n",
    "#df(P) test returns <0.05 ,reject null hypothesis,series is stationary"
   ]
  },
  {
   "cell_type": "code",
   "execution_count": 12,
   "id": "691f0dfc",
   "metadata": {},
   "outputs": [],
   "source": [
    "from statsmodels.tsa.stattools import adfuller\n",
    "#adfuller os method & tsa=time series analysis"
   ]
  },
  {
   "cell_type": "code",
   "execution_count": 13,
   "id": "de0d4c7c",
   "metadata": {},
   "outputs": [],
   "source": [
    "adftest=adfuller(ts)"
   ]
  },
  {
   "cell_type": "code",
   "execution_count": 14,
   "id": "49912d7b",
   "metadata": {},
   "outputs": [
    {
     "name": "stdout",
     "output_type": "stream",
     "text": [
      "p vale of ad fulller test is 0.5351849899365444\n"
     ]
    }
   ],
   "source": [
    "print('p vale of ad fulller test is',adftest[1])"
   ]
  },
  {
   "cell_type": "markdown",
   "id": "cdfd665f",
   "metadata": {},
   "source": [
    "#### as p value is gretaer than 0.05 we accept null hypothesis, which says series is non stationary"
   ]
  },
  {
   "cell_type": "code",
   "execution_count": 15,
   "id": "204140b1",
   "metadata": {},
   "outputs": [],
   "source": [
    "#we need to make series stationary then only we can do forecasting\n",
    "#we dont remove trend and seasonality we do seperate them\n",
    "#trend + seasonality +error"
   ]
  },
  {
   "cell_type": "code",
   "execution_count": 16,
   "id": "0190f656",
   "metadata": {},
   "outputs": [],
   "source": [
    "import statsmodels.api as sm"
   ]
  },
  {
   "cell_type": "code",
   "execution_count": 17,
   "id": "5c02d3f4",
   "metadata": {},
   "outputs": [
    {
     "data": {
      "image/png": "[encoded data removed]",
      "text/plain": [
       "<Figure size 432x288 with 4 Axes>"
      ]
     },
     "metadata": {
      "needs_background": "light"
     },
     "output_type": "display_data"
    }
   ],
   "source": [
    "decomposition=sm.tsa.seasonal_decompose(ts,model='additive')\n",
    "fig=decomposition.plot()\n",
    "plt.show()"
   ]
  },
  {
   "cell_type": "code",
   "execution_count": 18,
   "id": "c51c5cd4",
   "metadata": {},
   "outputs": [],
   "source": [
    "ts1=ts.diff()"
   ]
  },
  {
   "cell_type": "code",
   "execution_count": 19,
   "id": "11379cfb",
   "metadata": {},
   "outputs": [
    {
     "data": {
      "text/plain": [
       "<AxesSubplot:xlabel='date'>"
      ]
     },
     "execution_count": 19,
     "metadata": {},
     "output_type": "execute_result"
    },
    {
     "data": {
      "image/png": "[encoded data removed]",
      "text/plain": [
       "<Figure size 432x288 with 1 Axes>"
      ]
     },
     "metadata": {
      "needs_background": "light"
     },
     "output_type": "display_data"
    }
   ],
   "source": [
    "ts1.plot()"
   ]
  },
  {
   "cell_type": "code",
   "execution_count": 20,
   "id": "e90b2dfd",
   "metadata": {},
   "outputs": [
    {
     "data": {
      "text/plain": [
       "date\n",
       "2018-01-31        NaN\n",
       "2018-02-28     536.00\n",
       "2018-03-31    3572.00\n",
       "2018-04-30    -716.00\n",
       "2018-05-31   -4294.00\n",
       "2018-06-30    -696.00\n",
       "2018-07-31    4321.00\n",
       "2018-08-31   -1766.00\n",
       "2018-09-30   -2776.00\n",
       "2018-10-31   -1364.00\n",
       "2018-11-30    4961.00\n",
       "2018-12-31   -4458.00\n",
       "2019-01-31    -710.65\n",
       "2019-02-28     710.00\n",
       "2019-03-31    1834.20\n",
       "2019-04-30    -294.30\n",
       "2019-05-31   -2496.85\n",
       "2019-06-30    -384.60\n",
       "2019-07-31    2824.50\n",
       "2019-08-31   -1630.30\n",
       "2019-09-30   -1827.75\n",
       "2019-10-31    -335.80\n",
       "2019-11-30    2363.50\n",
       "2019-12-31   -1539.70\n",
       "Freq: M, Name: sales, dtype: float64"
      ]
     },
     "execution_count": 20,
     "metadata": {},
     "output_type": "execute_result"
    }
   ],
   "source": [
    "ts1"
   ]
  },
  {
   "cell_type": "code",
   "execution_count": 21,
   "id": "8348e475",
   "metadata": {},
   "outputs": [
    {
     "data": {
      "text/plain": [
       "date\n",
       "2018-02-28     536.0\n",
       "2018-03-31    3572.0\n",
       "2018-04-30    -716.0\n",
       "2018-05-31   -4294.0\n",
       "2018-06-30    -696.0\n",
       "Freq: M, Name: sales, dtype: float64"
      ]
     },
     "execution_count": 21,
     "metadata": {},
     "output_type": "execute_result"
    }
   ],
   "source": [
    "ts2=ts1[1:,]  #remove 1st row as NA Value\n",
    "ts2.head()"
   ]
  },
  {
   "cell_type": "code",
   "execution_count": 22,
   "id": "d128448b",
   "metadata": {},
   "outputs": [
    {
     "name": "stdout",
     "output_type": "stream",
     "text": [
      "p value of ad fuller test is 1.2875635261558588e-21\n"
     ]
    }
   ],
   "source": [
    "adftest1=adfuller(ts2)\n",
    "print('p value of ad fuller test is',adftest1[1])"
   ]
  },
  {
   "cell_type": "code",
   "execution_count": 23,
   "id": "d00ecb60",
   "metadata": {},
   "outputs": [],
   "source": [
    "#p <0.05 reject Nul Hypo & time series is stationary"
   ]
  },
  {
   "cell_type": "code",
   "execution_count": 24,
   "id": "d3d6f673",
   "metadata": {},
   "outputs": [
    {
     "data": {
      "text/plain": [
       "date\n",
       "2018-01-31        NaN\n",
       "2018-02-28     536.00\n",
       "2018-03-31    3572.00\n",
       "2018-04-30    -716.00\n",
       "2018-05-31   -4294.00\n",
       "2018-06-30    -696.00\n",
       "2018-07-31    4321.00\n",
       "2018-08-31   -1766.00\n",
       "2018-09-30   -2776.00\n",
       "2018-10-31   -1364.00\n",
       "2018-11-30    4961.00\n",
       "2018-12-31   -4458.00\n",
       "2019-01-31    -710.65\n",
       "2019-02-28     710.00\n",
       "2019-03-31    1834.20\n",
       "2019-04-30    -294.30\n",
       "2019-05-31   -2496.85\n",
       "2019-06-30    -384.60\n",
       "2019-07-31    2824.50\n",
       "2019-08-31   -1630.30\n",
       "2019-09-30   -1827.75\n",
       "2019-10-31    -335.80\n",
       "2019-11-30    2363.50\n",
       "2019-12-31   -1539.70\n",
       "Freq: M, Name: sales, dtype: float64"
      ]
     },
     "execution_count": 24,
     "metadata": {},
     "output_type": "execute_result"
    }
   ],
   "source": [
    "ts1"
   ]
  },
  {
   "cell_type": "markdown",
   "id": "ecbb27d9",
   "metadata": {},
   "source": [
    "### Train-test subset"
   ]
  },
  {
   "cell_type": "code",
   "execution_count": 25,
   "id": "192e4d6f",
   "metadata": {},
   "outputs": [
    {
     "data": {
      "text/plain": [
       "24"
      ]
     },
     "execution_count": 25,
     "metadata": {},
     "output_type": "execute_result"
    }
   ],
   "source": [
    "len(ts)"
   ]
  },
  {
   "cell_type": "code",
   "execution_count": 26,
   "id": "f532471a",
   "metadata": {},
   "outputs": [
    {
     "data": {
      "text/plain": [
       "date\n",
       "2018-01-31     9035.00\n",
       "2018-02-28     9571.00\n",
       "2018-03-31    13143.00\n",
       "2018-04-30    12427.00\n",
       "2018-05-31     8133.00\n",
       "2018-06-30     7437.00\n",
       "2018-07-31    11758.00\n",
       "2018-08-31     9992.00\n",
       "2018-09-30     7216.00\n",
       "2018-10-31     5852.00\n",
       "2018-11-30    10813.00\n",
       "2018-12-31     6355.00\n",
       "2019-01-31     5644.35\n",
       "2019-02-28     6354.35\n",
       "2019-03-31     8188.55\n",
       "2019-04-30     7894.25\n",
       "2019-05-31     5397.40\n",
       "2019-06-30     5012.80\n",
       "2019-07-31     7837.30\n",
       "2019-08-31     6207.00\n",
       "2019-09-30     4379.25\n",
       "2019-10-31     4043.45\n",
       "2019-11-30     6406.95\n",
       "2019-12-31     4867.25\n",
       "Freq: M, Name: sales, dtype: float64"
      ]
     },
     "execution_count": 26,
     "metadata": {},
     "output_type": "execute_result"
    }
   ],
   "source": [
    "ts"
   ]
  },
  {
   "cell_type": "code",
   "execution_count": 27,
   "id": "6dd34513",
   "metadata": {},
   "outputs": [
    {
     "data": {
      "text/plain": [
       "date\n",
       "2018-01-31     9035.00\n",
       "2018-02-28     9571.00\n",
       "2018-03-31    13143.00\n",
       "2018-04-30    12427.00\n",
       "2018-05-31     8133.00\n",
       "2018-06-30     7437.00\n",
       "2018-07-31    11758.00\n",
       "2018-08-31     9992.00\n",
       "2018-09-30     7216.00\n",
       "2018-10-31     5852.00\n",
       "2018-11-30    10813.00\n",
       "2018-12-31     6355.00\n",
       "2019-01-31     5644.35\n",
       "2019-02-28     6354.35\n",
       "2019-03-31     8188.55\n",
       "2019-04-30     7894.25\n",
       "2019-05-31     5397.40\n",
       "2019-06-30     5012.80\n",
       "Freq: M, Name: sales, dtype: float64"
      ]
     },
     "execution_count": 27,
     "metadata": {},
     "output_type": "execute_result"
    }
   ],
   "source": [
    "train=ts[:18]\n",
    "train"
   ]
  },
  {
   "cell_type": "code",
   "execution_count": 28,
   "id": "d35025b5",
   "metadata": {},
   "outputs": [
    {
     "data": {
      "text/plain": [
       "date\n",
       "2019-07-31    7837.30\n",
       "2019-08-31    6207.00\n",
       "2019-09-30    4379.25\n",
       "2019-10-31    4043.45\n",
       "2019-11-30    6406.95\n",
       "2019-12-31    4867.25\n",
       "Freq: M, Name: sales, dtype: float64"
      ]
     },
     "execution_count": 28,
     "metadata": {},
     "output_type": "execute_result"
    }
   ],
   "source": [
    "test=ts[18:]\n",
    "test"
   ]
  },
  {
   "cell_type": "code",
   "execution_count": 29,
   "id": "90381a16",
   "metadata": {},
   "outputs": [
    {
     "name": "stdout",
     "output_type": "stream",
     "text": [
      "train data 18\n",
      "test data 6\n"
     ]
    }
   ],
   "source": [
    "print('train data',len(train))\n",
    "print('test data',len(test))"
   ]
  },
  {
   "cell_type": "markdown",
   "id": "d20c0d05",
   "metadata": {},
   "source": [
    "### build ARIMA model on train data "
   ]
  },
  {
   "cell_type": "code",
   "execution_count": 30,
   "id": "e57085c7",
   "metadata": {},
   "outputs": [],
   "source": [
    "from statsmodels.tsa.arima.model import ARIMA"
   ]
  },
  {
   "cell_type": "code",
   "execution_count": 31,
   "id": "a4126e5d",
   "metadata": {},
   "outputs": [],
   "source": [
    "import warnings \n",
    "warnings.filterwarnings('ignore')"
   ]
  },
  {
   "cell_type": "code",
   "execution_count": 32,
   "id": "c8c99312",
   "metadata": {},
   "outputs": [],
   "source": [
    "model=ARIMA(train,order=(5,0,4)).fit() #5,0,4 by  assuuming we start"
   ]
  },
  {
   "cell_type": "code",
   "execution_count": 33,
   "id": "4223963a",
   "metadata": {},
   "outputs": [
    {
     "data": {
      "text/plain": [
       "(18, 23)"
      ]
     },
     "execution_count": 33,
     "metadata": {},
     "output_type": "execute_result"
    }
   ],
   "source": [
    "len(train),(len(ts)-1)"
   ]
  },
  {
   "cell_type": "code",
   "execution_count": 34,
   "id": "521529b5",
   "metadata": {},
   "outputs": [],
   "source": [
    "pred=model.predict(start=len(train),end=(len(ts)-1))"
   ]
  },
  {
   "cell_type": "code",
   "execution_count": 35,
   "id": "b7a9185b",
   "metadata": {},
   "outputs": [
    {
     "data": {
      "text/plain": [
       "2019-07-31    8974.310767\n",
       "2019-08-31    7441.929931\n",
       "2019-09-30    4839.238589\n",
       "2019-10-31    5466.022528\n",
       "2019-11-30    8614.346258\n",
       "Freq: M, Name: predicted_mean, dtype: float64"
      ]
     },
     "execution_count": 35,
     "metadata": {},
     "output_type": "execute_result"
    }
   ],
   "source": [
    "pred.head()"
   ]
  },
  {
   "cell_type": "code",
   "execution_count": 36,
   "id": "acf88619",
   "metadata": {},
   "outputs": [
    {
     "data": {
      "text/plain": [
       "2019-08-31    7441.929931\n",
       "2019-09-30    4839.238589\n",
       "2019-10-31    5466.022528\n",
       "2019-11-30    8614.346258\n",
       "2019-12-31    7775.235891\n",
       "Freq: M, Name: predicted_mean, dtype: float64"
      ]
     },
     "execution_count": 36,
     "metadata": {},
     "output_type": "execute_result"
    }
   ],
   "source": [
    "pred.tail()"
   ]
  },
  {
   "cell_type": "markdown",
   "id": "484686ad",
   "metadata": {},
   "source": [
    "### MODEL EVALUATION"
   ]
  },
  {
   "cell_type": "code",
   "execution_count": 37,
   "id": "f3de7258",
   "metadata": {},
   "outputs": [],
   "source": [
    "from sklearn.metrics import mean_squared_error"
   ]
  },
  {
   "cell_type": "code",
   "execution_count": 38,
   "id": "520114d1",
   "metadata": {},
   "outputs": [
    {
     "data": {
      "text/plain": [
       "1750.339381351658"
      ]
     },
     "execution_count": 38,
     "metadata": {},
     "output_type": "execute_result"
    }
   ],
   "source": [
    "error=np.sqrt(mean_squared_error(test,pred))\n",
    "error"
   ]
  },
  {
   "cell_type": "code",
   "execution_count": 39,
   "id": "91ccb995",
   "metadata": {},
   "outputs": [
    {
     "data": {
      "text/plain": [
       "(5623.533333333333, 1447.190845281529)"
      ]
     },
     "execution_count": 39,
     "metadata": {},
     "output_type": "execute_result"
    }
   ],
   "source": [
    "test.mean(),np.sqrt(test.var())"
   ]
  },
  {
   "cell_type": "code",
   "execution_count": 40,
   "id": "2f9af728",
   "metadata": {},
   "outputs": [
    {
     "data": {
      "text/plain": [
       "<AxesSubplot:xlabel='date'>"
      ]
     },
     "execution_count": 40,
     "metadata": {},
     "output_type": "execute_result"
    },
    {
     "data": {
      "image/png": "[encoded data removed]",
      "text/plain": [
       "<Figure size 720x432 with 1 Axes>"
      ]
     },
     "metadata": {
      "needs_background": "light"
     },
     "output_type": "display_data"
    }
   ],
   "source": [
    "train.plot(legend=True,label='Train',figsize=(10,6))\n",
    "test.plot(legend=True,label='Test')\n",
    "pred.plot(legend=True,label='Prediction')"
   ]
  },
  {
   "cell_type": "code",
   "execution_count": 41,
   "id": "c366294a",
   "metadata": {},
   "outputs": [],
   "source": [
    "#our assumption for p ,d and q seems wrong"
   ]
  },
  {
   "cell_type": "markdown",
   "id": "f585c6c9",
   "metadata": {},
   "source": [
    "### Make model with orginal (full) data predict future data"
   ]
  },
  {
   "cell_type": "code",
   "execution_count": 42,
   "id": "8983c236",
   "metadata": {},
   "outputs": [],
   "source": [
    "final_model=ARIMA(ts,order=(5,0,4)).fit() #build on full dataset"
   ]
  },
  {
   "cell_type": "code",
   "execution_count": 43,
   "id": "aabf3d4e",
   "metadata": {},
   "outputs": [
    {
     "data": {
      "text/html": [
       "<table class=\"simpletable\">\n",
       "<caption>SARIMAX Results</caption>\n",
       "<tr>\n",
       "  <th>Dep. Variable:</th>         <td>sales</td>      <th>  No. Observations:  </th>    <td>24</td>   \n",
       "</tr>\n",
       "<tr>\n",
       "  <th>Model:</th>            <td>ARIMA(5, 0, 4)</td>  <th>  Log Likelihood     </th> <td>-240.457</td>\n",
       "</tr>\n",
       "<tr>\n",
       "  <th>Date:</th>            <td>Tue, 18 Oct 2022</td> <th>  AIC                </th>  <td>502.914</td>\n",
       "</tr>\n",
       "<tr>\n",
       "  <th>Time:</th>                <td>23:35:20</td>     <th>  BIC                </th>  <td>515.873</td>\n",
       "</tr>\n",
       "<tr>\n",
       "  <th>Sample:</th>             <td>01-31-2018</td>    <th>  HQIC               </th>  <td>506.352</td>\n",
       "</tr>\n",
       "<tr>\n",
       "  <th></th>                   <td>- 12-31-2019</td>   <th>                     </th>     <td> </td>   \n",
       "</tr>\n",
       "<tr>\n",
       "  <th>Covariance Type:</th>        <td>opg</td>       <th>                     </th>     <td> </td>   \n",
       "</tr>\n",
       "</table>\n",
       "<table class=\"simpletable\">\n",
       "<tr>\n",
       "     <td></td>       <th>coef</th>     <th>std err</th>      <th>z</th>      <th>P>|z|</th>  <th>[0.025</th>    <th>0.975]</th>  \n",
       "</tr>\n",
       "<tr>\n",
       "  <th>const</th>  <td> 7665.2043</td> <td>  382.203</td> <td>   20.055</td> <td> 0.000</td> <td> 6916.100</td> <td> 8414.308</td>\n",
       "</tr>\n",
       "<tr>\n",
       "  <th>ar.L1</th>  <td>    1.9276</td> <td>    0.066</td> <td>   29.260</td> <td> 0.000</td> <td>    1.798</td> <td>    2.057</td>\n",
       "</tr>\n",
       "<tr>\n",
       "  <th>ar.L2</th>  <td>   -1.9186</td> <td>    0.125</td> <td>  -15.376</td> <td> 0.000</td> <td>   -2.163</td> <td>   -1.674</td>\n",
       "</tr>\n",
       "<tr>\n",
       "  <th>ar.L3</th>  <td>    1.9217</td> <td>    0.131</td> <td>   14.692</td> <td> 0.000</td> <td>    1.665</td> <td>    2.178</td>\n",
       "</tr>\n",
       "<tr>\n",
       "  <th>ar.L4</th>  <td>   -0.9870</td> <td>    0.137</td> <td>   -7.192</td> <td> 0.000</td> <td>   -1.256</td> <td>   -0.718</td>\n",
       "</tr>\n",
       "<tr>\n",
       "  <th>ar.L5</th>  <td>   -0.0047</td> <td>    0.071</td> <td>   -0.066</td> <td> 0.947</td> <td>   -0.144</td> <td>    0.134</td>\n",
       "</tr>\n",
       "<tr>\n",
       "  <th>ma.L1</th>  <td>   -1.9263</td> <td>    0.298</td> <td>   -6.455</td> <td> 0.000</td> <td>   -2.511</td> <td>   -1.341</td>\n",
       "</tr>\n",
       "<tr>\n",
       "  <th>ma.L2</th>  <td>    2.3757</td> <td>    0.185</td> <td>   12.868</td> <td> 0.000</td> <td>    2.014</td> <td>    2.738</td>\n",
       "</tr>\n",
       "<tr>\n",
       "  <th>ma.L3</th>  <td>   -1.8857</td> <td>    0.531</td> <td>   -3.554</td> <td> 0.000</td> <td>   -2.925</td> <td>   -0.846</td>\n",
       "</tr>\n",
       "<tr>\n",
       "  <th>ma.L4</th>  <td>    0.9758</td> <td>    0.097</td> <td>   10.046</td> <td> 0.000</td> <td>    0.785</td> <td>    1.166</td>\n",
       "</tr>\n",
       "<tr>\n",
       "  <th>sigma2</th> <td> 1.485e+05</td> <td>    0.010</td> <td>  1.5e+07</td> <td> 0.000</td> <td> 1.48e+05</td> <td> 1.48e+05</td>\n",
       "</tr>\n",
       "</table>\n",
       "<table class=\"simpletable\">\n",
       "<tr>\n",
       "  <th>Ljung-Box (L1) (Q):</th>     <td>0.00</td> <th>  Jarque-Bera (JB):  </th> <td>3.32</td> \n",
       "</tr>\n",
       "<tr>\n",
       "  <th>Prob(Q):</th>                <td>0.96</td> <th>  Prob(JB):          </th> <td>0.19</td> \n",
       "</tr>\n",
       "<tr>\n",
       "  <th>Heteroskedasticity (H):</th> <td>7.40</td> <th>  Skew:              </th> <td>-0.69</td>\n",
       "</tr>\n",
       "<tr>\n",
       "  <th>Prob(H) (two-sided):</th>    <td>0.01</td> <th>  Kurtosis:          </th> <td>4.19</td> \n",
       "</tr>\n",
       "</table><br/><br/>Warnings:<br/>[1] Covariance matrix calculated using the outer product of gradients (complex-step).<br/>[2] Covariance matrix is singular or near-singular, with condition number 5.77e+24. Standard errors may be unstable."
      ],
      "text/plain": [
       "<class 'statsmodels.iolib.summary.Summary'>\n",
       "\"\"\"\n",
       "                               SARIMAX Results                                \n",
       "==============================================================================\n",
       "Dep. Variable:                  sales   No. Observations:                   24\n",
       "Model:                 ARIMA(5, 0, 4)   Log Likelihood                -240.457\n",
       "Date:                Tue, 18 Oct 2022   AIC                            502.914\n",
       "Time:                        23:35:20   BIC                            515.873\n",
       "Sample:                    01-31-2018   HQIC                           506.352\n",
       "                         - 12-31-2019                                         \n",
       "Covariance Type:                  opg                                         \n",
       "==============================================================================\n",
       "                 coef    std err          z      P>|z|      [0.025      0.975]\n",
       "------------------------------------------------------------------------------\n",
       "const       7665.2043    382.203     20.055      0.000    6916.100    8414.308\n",
       "ar.L1          1.9276      0.066     29.260      0.000       1.798       2.057\n",
       "ar.L2         -1.9186      0.125    -15.376      0.000      -2.163      -1.674\n",
       "ar.L3          1.9217      0.131     14.692      0.000       1.665       2.178\n",
       "ar.L4         -0.9870      0.137     -7.192      0.000      -1.256      -0.718\n",
       "ar.L5         -0.0047      0.071     -0.066      0.947      -0.144       0.134\n",
       "ma.L1         -1.9263      0.298     -6.455      0.000      -2.511      -1.341\n",
       "ma.L2          2.3757      0.185     12.868      0.000       2.014       2.738\n",
       "ma.L3         -1.8857      0.531     -3.554      0.000      -2.925      -0.846\n",
       "ma.L4          0.9758      0.097     10.046      0.000       0.785       1.166\n",
       "sigma2      1.485e+05      0.010    1.5e+07      0.000    1.48e+05    1.48e+05\n",
       "===================================================================================\n",
       "Ljung-Box (L1) (Q):                   0.00   Jarque-Bera (JB):                 3.32\n",
       "Prob(Q):                              0.96   Prob(JB):                         0.19\n",
       "Heteroskedasticity (H):               7.40   Skew:                            -0.69\n",
       "Prob(H) (two-sided):                  0.01   Kurtosis:                         4.19\n",
       "===================================================================================\n",
       "\n",
       "Warnings:\n",
       "[1] Covariance matrix calculated using the outer product of gradients (complex-step).\n",
       "[2] Covariance matrix is singular or near-singular, with condition number 5.77e+24. Standard errors may be unstable.\n",
       "\"\"\""
      ]
     },
     "execution_count": 43,
     "metadata": {},
     "output_type": "execute_result"
    }
   ],
   "source": [
    "final_model.summary()"
   ]
  },
  {
   "cell_type": "code",
   "execution_count": 44,
   "id": "2b984e22",
   "metadata": {},
   "outputs": [],
   "source": [
    "prediction=final_model.predict(start=len(ts),end=(len(ts)+6))"
   ]
  },
  {
   "cell_type": "code",
   "execution_count": 45,
   "id": "aacd83b6",
   "metadata": {},
   "outputs": [
    {
     "data": {
      "text/plain": [
       "2020-01-31    2390.237537\n",
       "2020-02-29    2454.268466\n",
       "2020-03-31    4565.947756\n",
       "2020-04-30    3819.782342\n",
       "2020-05-31    1405.022506\n",
       "2020-06-30    2188.352079\n",
       "2020-07-31    4812.746954\n",
       "Freq: M, Name: predicted_mean, dtype: float64"
      ]
     },
     "execution_count": 45,
     "metadata": {},
     "output_type": "execute_result"
    }
   ],
   "source": [
    "prediction"
   ]
  },
  {
   "cell_type": "code",
   "execution_count": 46,
   "id": "461c50b9",
   "metadata": {},
   "outputs": [
    {
     "data": {
      "text/plain": [
       "<AxesSubplot:xlabel='date'>"
      ]
     },
     "execution_count": 46,
     "metadata": {},
     "output_type": "execute_result"
    },
    {
     "data": {
      "image/png": "[encoded data removed]",
      "text/plain": [
       "<Figure size 720x432 with 1 Axes>"
      ]
     },
     "metadata": {
      "needs_background": "light"
     },
     "output_type": "display_data"
    }
   ],
   "source": [
    "ts.plot(legend=True,label='Train',figsize=(10,6))\n",
    "prediction.plot(legend=True,label='Prediction')"
   ]
  },
  {
   "cell_type": "markdown",
   "id": "7bd8b65c",
   "metadata": {},
   "source": [
    "### method custom for loop to find p,q and q"
   ]
  },
  {
   "cell_type": "code",
   "execution_count": 47,
   "id": "67462b4a",
   "metadata": {},
   "outputs": [],
   "source": [
    "import itertools"
   ]
  },
  {
   "cell_type": "code",
   "execution_count": 48,
   "id": "3a6436fa",
   "metadata": {},
   "outputs": [],
   "source": [
    "p=range(0,8) #for AR\n",
    "q=range(0,8) #for MA\n",
    "d=range(0,2) #generally not required more than 3 difference 0,1 & 2"
   ]
  },
  {
   "cell_type": "code",
   "execution_count": 49,
   "id": "8d03e9fc",
   "metadata": {},
   "outputs": [
    {
     "data": {
      "text/plain": [
       "range(0, 8)"
      ]
     },
     "execution_count": 49,
     "metadata": {},
     "output_type": "execute_result"
    }
   ],
   "source": [
    "p"
   ]
  },
  {
   "cell_type": "code",
   "execution_count": 50,
   "id": "274b91c8",
   "metadata": {},
   "outputs": [],
   "source": [
    "pdq_combination=list(itertools.product(p,d,q))"
   ]
  },
  {
   "cell_type": "code",
   "execution_count": 51,
   "id": "82bdef43",
   "metadata": {},
   "outputs": [
    {
     "data": {
      "text/plain": [
       "[(0, 0, 0),\n",
       " (0, 0, 1),\n",
       " (0, 0, 2),\n",
       " (0, 0, 3),\n",
       " (0, 0, 4),\n",
       " (0, 0, 5),\n",
       " (0, 0, 6),\n",
       " (0, 0, 7),\n",
       " (0, 1, 0),\n",
       " (0, 1, 1),\n",
       " (0, 1, 2),\n",
       " (0, 1, 3),\n",
       " (0, 1, 4),\n",
       " (0, 1, 5),\n",
       " (0, 1, 6),\n",
       " (0, 1, 7),\n",
       " (1, 0, 0),\n",
       " (1, 0, 1),\n",
       " (1, 0, 2),\n",
       " (1, 0, 3),\n",
       " (1, 0, 4),\n",
       " (1, 0, 5),\n",
       " (1, 0, 6),\n",
       " (1, 0, 7),\n",
       " (1, 1, 0),\n",
       " (1, 1, 1),\n",
       " (1, 1, 2),\n",
       " (1, 1, 3),\n",
       " (1, 1, 4),\n",
       " (1, 1, 5),\n",
       " (1, 1, 6),\n",
       " (1, 1, 7),\n",
       " (2, 0, 0),\n",
       " (2, 0, 1),\n",
       " (2, 0, 2),\n",
       " (2, 0, 3),\n",
       " (2, 0, 4),\n",
       " (2, 0, 5),\n",
       " (2, 0, 6),\n",
       " (2, 0, 7),\n",
       " (2, 1, 0),\n",
       " (2, 1, 1),\n",
       " (2, 1, 2),\n",
       " (2, 1, 3),\n",
       " (2, 1, 4),\n",
       " (2, 1, 5),\n",
       " (2, 1, 6),\n",
       " (2, 1, 7),\n",
       " (3, 0, 0),\n",
       " (3, 0, 1),\n",
       " (3, 0, 2),\n",
       " (3, 0, 3),\n",
       " (3, 0, 4),\n",
       " (3, 0, 5),\n",
       " (3, 0, 6),\n",
       " (3, 0, 7),\n",
       " (3, 1, 0),\n",
       " (3, 1, 1),\n",
       " (3, 1, 2),\n",
       " (3, 1, 3),\n",
       " (3, 1, 4),\n",
       " (3, 1, 5),\n",
       " (3, 1, 6),\n",
       " (3, 1, 7),\n",
       " (4, 0, 0),\n",
       " (4, 0, 1),\n",
       " (4, 0, 2),\n",
       " (4, 0, 3),\n",
       " (4, 0, 4),\n",
       " (4, 0, 5),\n",
       " (4, 0, 6),\n",
       " (4, 0, 7),\n",
       " (4, 1, 0),\n",
       " (4, 1, 1),\n",
       " (4, 1, 2),\n",
       " (4, 1, 3),\n",
       " (4, 1, 4),\n",
       " (4, 1, 5),\n",
       " (4, 1, 6),\n",
       " (4, 1, 7),\n",
       " (5, 0, 0),\n",
       " (5, 0, 1),\n",
       " (5, 0, 2),\n",
       " (5, 0, 3),\n",
       " (5, 0, 4),\n",
       " (5, 0, 5),\n",
       " (5, 0, 6),\n",
       " (5, 0, 7),\n",
       " (5, 1, 0),\n",
       " (5, 1, 1),\n",
       " (5, 1, 2),\n",
       " (5, 1, 3),\n",
       " (5, 1, 4),\n",
       " (5, 1, 5),\n",
       " (5, 1, 6),\n",
       " (5, 1, 7),\n",
       " (6, 0, 0),\n",
       " (6, 0, 1),\n",
       " (6, 0, 2),\n",
       " (6, 0, 3),\n",
       " (6, 0, 4),\n",
       " (6, 0, 5),\n",
       " (6, 0, 6),\n",
       " (6, 0, 7),\n",
       " (6, 1, 0),\n",
       " (6, 1, 1),\n",
       " (6, 1, 2),\n",
       " (6, 1, 3),\n",
       " (6, 1, 4),\n",
       " (6, 1, 5),\n",
       " (6, 1, 6),\n",
       " (6, 1, 7),\n",
       " (7, 0, 0),\n",
       " (7, 0, 1),\n",
       " (7, 0, 2),\n",
       " (7, 0, 3),\n",
       " (7, 0, 4),\n",
       " (7, 0, 5),\n",
       " (7, 0, 6),\n",
       " (7, 0, 7),\n",
       " (7, 1, 0),\n",
       " (7, 1, 1),\n",
       " (7, 1, 2),\n",
       " (7, 1, 3),\n",
       " (7, 1, 4),\n",
       " (7, 1, 5),\n",
       " (7, 1, 6),\n",
       " (7, 1, 7)]"
      ]
     },
     "execution_count": 51,
     "metadata": {},
     "output_type": "execute_result"
    }
   ],
   "source": [
    "pdq_combination"
   ]
  },
  {
   "cell_type": "code",
   "execution_count": 52,
   "id": "d448fdb9",
   "metadata": {},
   "outputs": [
    {
     "data": {
      "text/plain": [
       "128"
      ]
     },
     "execution_count": 52,
     "metadata": {},
     "output_type": "execute_result"
    }
   ],
   "source": [
    "len(pdq_combination)"
   ]
  },
  {
   "cell_type": "code",
   "execution_count": 53,
   "id": "2182ee63",
   "metadata": {},
   "outputs": [],
   "source": [
    "rmse=[]\n",
    "order1=[]"
   ]
  },
  {
   "cell_type": "code",
   "execution_count": 54,
   "id": "486c4c65",
   "metadata": {},
   "outputs": [],
   "source": [
    " for pdq in pdq_combination:\n",
    "    try:\n",
    "        model=ARIMA(train,order=pdq).fit()\n",
    "        pred=model.predict(start=len(train),end=(len(ts)-1))\n",
    "        error=np.sqrt(mean_squared_error(test,pred))\n",
    "        order1.append(pdq)\n",
    "        rmse.append(error)\n",
    "        \n",
    "    except:\n",
    "        continue"
   ]
  },
  {
   "cell_type": "code",
   "execution_count": 55,
   "id": "149b2a57",
   "metadata": {},
   "outputs": [],
   "source": [
    "results=pd.DataFrame(index=order1,data=rmse,columns=['RMSE'])"
   ]
  },
  {
   "cell_type": "code",
   "execution_count": 56,
   "id": "0f0f6ae9",
   "metadata": {},
   "outputs": [
    {
     "data": {
      "text/html": [
       "<div>\n",
       "<style scoped>\n",
       "    .dataframe tbody tr th:only-of-type {\n",
       "        vertical-align: middle;\n",
       "    }\n",
       "\n",
       "    .dataframe tbody tr th {\n",
       "        vertical-align: top;\n",
       "    }\n",
       "\n",
       "    .dataframe thead th {\n",
       "        text-align: right;\n",
       "    }\n",
       "</style>\n",
       "<table border=\"1\" class=\"dataframe\">\n",
       "  <thead>\n",
       "    <tr style=\"text-align: right;\">\n",
       "      <th></th>\n",
       "      <th>RMSE</th>\n",
       "    </tr>\n",
       "  </thead>\n",
       "  <tbody>\n",
       "    <tr>\n",
       "      <th>(0, 0, 0)</th>\n",
       "      <td>3025.859414</td>\n",
       "    </tr>\n",
       "    <tr>\n",
       "      <th>(0, 0, 1)</th>\n",
       "      <td>3025.215172</td>\n",
       "    </tr>\n",
       "    <tr>\n",
       "      <th>(0, 0, 2)</th>\n",
       "      <td>3015.073804</td>\n",
       "    </tr>\n",
       "    <tr>\n",
       "      <th>(0, 0, 3)</th>\n",
       "      <td>3204.784860</td>\n",
       "    </tr>\n",
       "    <tr>\n",
       "      <th>(0, 0, 4)</th>\n",
       "      <td>2628.708315</td>\n",
       "    </tr>\n",
       "  </tbody>\n",
       "</table>\n",
       "</div>"
      ],
      "text/plain": [
       "                  RMSE\n",
       "(0, 0, 0)  3025.859414\n",
       "(0, 0, 1)  3025.215172\n",
       "(0, 0, 2)  3015.073804\n",
       "(0, 0, 3)  3204.784860\n",
       "(0, 0, 4)  2628.708315"
      ]
     },
     "execution_count": 56,
     "metadata": {},
     "output_type": "execute_result"
    }
   ],
   "source": [
    "results.head()"
   ]
  },
  {
   "cell_type": "code",
   "execution_count": 57,
   "id": "0f658599",
   "metadata": {},
   "outputs": [
    {
     "data": {
      "text/plain": [
       "(0, 0, 0)    3025.859414\n",
       "(0, 0, 1)    3025.215172\n",
       "(0, 0, 2)    3015.073804\n",
       "(0, 0, 3)    3204.784860\n",
       "(0, 0, 4)    2628.708315\n",
       "                ...     \n",
       "(7, 1, 2)    3049.121255\n",
       "(7, 1, 3)    1455.435329\n",
       "(7, 1, 4)    4089.917065\n",
       "(7, 1, 6)    1906.093444\n",
       "(7, 1, 7)    1911.991223\n",
       "Name: RMSE, Length: 109, dtype: float64"
      ]
     },
     "execution_count": 57,
     "metadata": {},
     "output_type": "execute_result"
    }
   ],
   "source": [
    "results['RMSE']"
   ]
  },
  {
   "cell_type": "code",
   "execution_count": 58,
   "id": "6b62b09f",
   "metadata": {},
   "outputs": [],
   "source": [
    "result_sort=results.sort_values('RMSE')"
   ]
  },
  {
   "cell_type": "code",
   "execution_count": 59,
   "id": "abad6056",
   "metadata": {},
   "outputs": [
    {
     "data": {
      "text/html": [
       "<div>\n",
       "<style scoped>\n",
       "    .dataframe tbody tr th:only-of-type {\n",
       "        vertical-align: middle;\n",
       "    }\n",
       "\n",
       "    .dataframe tbody tr th {\n",
       "        vertical-align: top;\n",
       "    }\n",
       "\n",
       "    .dataframe thead th {\n",
       "        text-align: right;\n",
       "    }\n",
       "</style>\n",
       "<table border=\"1\" class=\"dataframe\">\n",
       "  <thead>\n",
       "    <tr style=\"text-align: right;\">\n",
       "      <th></th>\n",
       "      <th>RMSE</th>\n",
       "    </tr>\n",
       "  </thead>\n",
       "  <tbody>\n",
       "    <tr>\n",
       "      <th>(6, 0, 4)</th>\n",
       "      <td>1059.336590</td>\n",
       "    </tr>\n",
       "    <tr>\n",
       "      <th>(4, 1, 3)</th>\n",
       "      <td>1157.380958</td>\n",
       "    </tr>\n",
       "    <tr>\n",
       "      <th>(3, 1, 1)</th>\n",
       "      <td>1216.255343</td>\n",
       "    </tr>\n",
       "    <tr>\n",
       "      <th>(5, 1, 2)</th>\n",
       "      <td>1239.487008</td>\n",
       "    </tr>\n",
       "    <tr>\n",
       "      <th>(2, 1, 0)</th>\n",
       "      <td>1285.179845</td>\n",
       "    </tr>\n",
       "  </tbody>\n",
       "</table>\n",
       "</div>"
      ],
      "text/plain": [
       "                  RMSE\n",
       "(6, 0, 4)  1059.336590\n",
       "(4, 1, 3)  1157.380958\n",
       "(3, 1, 1)  1216.255343\n",
       "(5, 1, 2)  1239.487008\n",
       "(2, 1, 0)  1285.179845"
      ]
     },
     "execution_count": 59,
     "metadata": {},
     "output_type": "execute_result"
    }
   ],
   "source": [
    "result_sort.head()"
   ]
  },
  {
   "cell_type": "code",
   "execution_count": 60,
   "id": "c272657b",
   "metadata": {},
   "outputs": [],
   "source": [
    "result_sort.to_csv('ARIMA_result.csv')"
   ]
  },
  {
   "cell_type": "code",
   "execution_count": 61,
   "id": "c405853a",
   "metadata": {},
   "outputs": [],
   "source": [
    "##predicting with 6,0,4\n",
    "model2=ARIMA(train,order=(6,0,4)).fit() ## assume p-6,q-0,d-4"
   ]
  },
  {
   "cell_type": "code",
   "execution_count": 62,
   "id": "c2abe592",
   "metadata": {},
   "outputs": [
    {
     "data": {
      "text/plain": [
       "2019-07-31    6321.790401\n",
       "2019-08-31    5118.190729\n",
       "2019-09-30    3996.546895\n",
       "2019-10-31    3826.825992\n",
       "2019-11-30    4800.741142\n",
       "Freq: M, Name: predicted_mean, dtype: float64"
      ]
     },
     "execution_count": 62,
     "metadata": {},
     "output_type": "execute_result"
    }
   ],
   "source": [
    "import warnings\n",
    "warnings.filterwarnings('ignore')\n",
    "pred3=model2.predict(start=len(train),end=(len(ts)-1))\n",
    "pred3.head()"
   ]
  },
  {
   "cell_type": "code",
   "execution_count": 63,
   "id": "ea78d239",
   "metadata": {},
   "outputs": [
    {
     "data": {
      "text/plain": [
       "1911.9912225962478"
      ]
     },
     "execution_count": 63,
     "metadata": {},
     "output_type": "execute_result"
    }
   ],
   "source": [
    "##Model evaluation\n",
    "from sklearn.metrics import mean_squared_error\n",
    "error=np.sqrt(mean_squared_error(test, pred))\n",
    "error"
   ]
  },
  {
   "cell_type": "code",
   "execution_count": 64,
   "id": "ed543832",
   "metadata": {},
   "outputs": [
    {
     "data": {
      "text/plain": [
       "<AxesSubplot:xlabel='date'>"
      ]
     },
     "execution_count": 64,
     "metadata": {},
     "output_type": "execute_result"
    },
    {
     "data": {
      "image/png": "[encoded data removed]",
      "text/plain": [
       "<Figure size 720x432 with 1 Axes>"
      ]
     },
     "metadata": {
      "needs_background": "light"
     },
     "output_type": "display_data"
    }
   ],
   "source": [
    "train.plot(legend=True,label='Train',figsize=(10,6))\n",
    "test.plot(legend=True,label='Test')\n",
    "pred3.plot(legend=True,label='Prediction3')"
   ]
  },
  {
   "cell_type": "code",
   "execution_count": null,
   "id": "1d4e1aa1",
   "metadata": {},
   "outputs": [],
   "source": []
  },
  {
   "cell_type": "code",
   "execution_count": null,
   "id": "352e2a77",
   "metadata": {},
   "outputs": [],
   "source": []
  },
  {
   "cell_type": "code",
   "execution_count": null,
   "id": "0c458aab",
   "metadata": {},
   "outputs": [],
   "source": []
  },
  {
   "cell_type": "code",
   "execution_count": null,
   "id": "c67aaef2",
   "metadata": {},
   "outputs": [],
   "source": []
  }
 ],
 "metadata": {
  "kernelspec": {
   "display_name": "Python 3 (ipykernel)",
   "language": "python",
   "name": "python3"
  },
  "language_info": {
   "codemirror_mode": {
    "name": "ipython",
    "version": 3
   },
   "file_extension": ".py",
   "mimetype": "text/x-python",
   "name": "python",
   "nbconvert_exporter": "python",
   "pygments_lexer": "ipython3",
   "version": "3.9.12"
  }
 },
 "nbformat": 4,
 "nbformat_minor": 5
}
