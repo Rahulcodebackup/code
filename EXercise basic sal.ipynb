{
 "cells": [
  {
   "cell_type": "code",
   "execution_count": 7,
   "id": "72e8a441",
   "metadata": {},
   "outputs": [],
   "source": [
    "import pandas as pd \n",
    "sal_d=pd.read_csv(\"D:/Phython/DAY1/basic_salary.csv\")"
   ]
  },
  {
   "cell_type": "code",
   "execution_count": 12,
   "id": "b1cbb574",
   "metadata": {},
   "outputs": [
    {
     "data": {
      "text/html": [
       "<div>\n",
       "<style scoped>\n",
       "    .dataframe tbody tr th:only-of-type {\n",
       "        vertical-align: middle;\n",
       "    }\n",
       "\n",
       "    .dataframe tbody tr th {\n",
       "        vertical-align: top;\n",
       "    }\n",
       "\n",
       "    .dataframe thead th {\n",
       "        text-align: right;\n",
       "    }\n",
       "</style>\n",
       "<table border=\"1\" class=\"dataframe\">\n",
       "  <thead>\n",
       "    <tr style=\"text-align: right;\">\n",
       "      <th></th>\n",
       "      <th>ba</th>\n",
       "      <th>ms</th>\n",
       "    </tr>\n",
       "  </thead>\n",
       "  <tbody>\n",
       "    <tr>\n",
       "      <th>count</th>\n",
       "      <td>12.000000</td>\n",
       "      <td>11.000000</td>\n",
       "    </tr>\n",
       "    <tr>\n",
       "      <th>mean</th>\n",
       "      <td>16154.583333</td>\n",
       "      <td>11004.545455</td>\n",
       "    </tr>\n",
       "    <tr>\n",
       "      <th>std</th>\n",
       "      <td>3739.378569</td>\n",
       "      <td>3711.189469</td>\n",
       "    </tr>\n",
       "    <tr>\n",
       "      <th>min</th>\n",
       "      <td>11960.000000</td>\n",
       "      <td>6630.000000</td>\n",
       "    </tr>\n",
       "    <tr>\n",
       "      <th>25%</th>\n",
       "      <td>13472.500000</td>\n",
       "      <td>7360.000000</td>\n",
       "    </tr>\n",
       "    <tr>\n",
       "      <th>50%</th>\n",
       "      <td>14270.000000</td>\n",
       "      <td>10760.000000</td>\n",
       "    </tr>\n",
       "    <tr>\n",
       "      <th>75%</th>\n",
       "      <td>19238.750000</td>\n",
       "      <td>14225.000000</td>\n",
       "    </tr>\n",
       "    <tr>\n",
       "      <th>max</th>\n",
       "      <td>23280.000000</td>\n",
       "      <td>16070.000000</td>\n",
       "    </tr>\n",
       "  </tbody>\n",
       "</table>\n",
       "</div>"
      ],
      "text/plain": [
       "                 ba            ms\n",
       "count     12.000000     11.000000\n",
       "mean   16154.583333  11004.545455\n",
       "std     3739.378569   3711.189469\n",
       "min    11960.000000   6630.000000\n",
       "25%    13472.500000   7360.000000\n",
       "50%    14270.000000  10760.000000\n",
       "75%    19238.750000  14225.000000\n",
       "max    23280.000000  16070.000000"
      ]
     },
     "execution_count": 12,
     "metadata": {},
     "output_type": "execute_result"
    }
   ],
   "source": [
    "sal_d.describe()"
   ]
  },
  {
   "cell_type": "code",
   "execution_count": 13,
   "id": "694bde50",
   "metadata": {},
   "outputs": [
    {
     "data": {
      "text/plain": [
       "<bound method NDFrame.describe of    First_Name Last_Name Grade Location     ba       ms\n",
       "0        Alan     Brown   GR1    DELHI  17990  16070.0\n",
       "1      Agatha  Williams   GR2   MUMBAI  12390   6630.0\n",
       "2      Rajesh     Kolte   GR1   MUMBAI  19250  14960.0\n",
       "3       Ameet    Mishra   GR2    DELHI  14780   9300.0\n",
       "4        Neha       Rao   GR1   MUMBAI  19235  15200.0\n",
       "5       Sagar    Chavan   GR2   MUMBAI  13390   6700.0\n",
       "6       Aaron     Jones   GR1   MUMBAI  23280  13490.0\n",
       "7        John     Patil   GR2   MUMBAI  13500  10760.0\n",
       "8       Sneha     Joshi   GR1    DELHI  20660      NaN\n",
       "9      Gaurav     Singh   GR2    DELHI  13760  13220.0\n",
       "10      Adela    Thomas   GR2    DELHI  13660   6840.0\n",
       "11       Anup      Save   GR2   MUMBAI  11960   7880.0>"
      ]
     },
     "execution_count": 13,
     "metadata": {},
     "output_type": "execute_result"
    }
   ],
   "source": [
    "sal_d.describe"
   ]
  },
  {
   "cell_type": "code",
   "execution_count": 9,
   "id": "4741235f",
   "metadata": {},
   "outputs": [
    {
     "data": {
      "text/html": [
       "<div>\n",
       "<style scoped>\n",
       "    .dataframe tbody tr th:only-of-type {\n",
       "        vertical-align: middle;\n",
       "    }\n",
       "\n",
       "    .dataframe tbody tr th {\n",
       "        vertical-align: top;\n",
       "    }\n",
       "\n",
       "    .dataframe thead th {\n",
       "        text-align: right;\n",
       "    }\n",
       "</style>\n",
       "<table border=\"1\" class=\"dataframe\">\n",
       "  <thead>\n",
       "    <tr style=\"text-align: right;\">\n",
       "      <th></th>\n",
       "      <th>First_Name</th>\n",
       "      <th>Last_Name</th>\n",
       "      <th>Grade</th>\n",
       "      <th>Location</th>\n",
       "      <th>ba</th>\n",
       "      <th>ms</th>\n",
       "    </tr>\n",
       "  </thead>\n",
       "  <tbody>\n",
       "    <tr>\n",
       "      <th>0</th>\n",
       "      <td>Alan</td>\n",
       "      <td>Brown</td>\n",
       "      <td>GR1</td>\n",
       "      <td>DELHI</td>\n",
       "      <td>17990</td>\n",
       "      <td>16070.0</td>\n",
       "    </tr>\n",
       "    <tr>\n",
       "      <th>1</th>\n",
       "      <td>Agatha</td>\n",
       "      <td>Williams</td>\n",
       "      <td>GR2</td>\n",
       "      <td>MUMBAI</td>\n",
       "      <td>12390</td>\n",
       "      <td>6630.0</td>\n",
       "    </tr>\n",
       "    <tr>\n",
       "      <th>2</th>\n",
       "      <td>Rajesh</td>\n",
       "      <td>Kolte</td>\n",
       "      <td>GR1</td>\n",
       "      <td>MUMBAI</td>\n",
       "      <td>19250</td>\n",
       "      <td>14960.0</td>\n",
       "    </tr>\n",
       "    <tr>\n",
       "      <th>3</th>\n",
       "      <td>Ameet</td>\n",
       "      <td>Mishra</td>\n",
       "      <td>GR2</td>\n",
       "      <td>DELHI</td>\n",
       "      <td>14780</td>\n",
       "      <td>9300.0</td>\n",
       "    </tr>\n",
       "    <tr>\n",
       "      <th>4</th>\n",
       "      <td>Neha</td>\n",
       "      <td>Rao</td>\n",
       "      <td>GR1</td>\n",
       "      <td>MUMBAI</td>\n",
       "      <td>19235</td>\n",
       "      <td>15200.0</td>\n",
       "    </tr>\n",
       "  </tbody>\n",
       "</table>\n",
       "</div>"
      ],
      "text/plain": [
       "  First_Name Last_Name Grade Location     ba       ms\n",
       "0       Alan     Brown   GR1    DELHI  17990  16070.0\n",
       "1     Agatha  Williams   GR2   MUMBAI  12390   6630.0\n",
       "2     Rajesh     Kolte   GR1   MUMBAI  19250  14960.0\n",
       "3      Ameet    Mishra   GR2    DELHI  14780   9300.0\n",
       "4       Neha       Rao   GR1   MUMBAI  19235  15200.0"
      ]
     },
     "execution_count": 9,
     "metadata": {},
     "output_type": "execute_result"
    }
   ],
   "source": [
    "sal_d.head(5)"
   ]
  },
  {
   "cell_type": "code",
   "execution_count": 10,
   "id": "e3529865",
   "metadata": {},
   "outputs": [
    {
     "data": {
      "text/plain": [
       "Index(['First_Name', 'Last_Name', 'Grade', 'Location', 'ba', 'ms'], dtype='object')"
      ]
     },
     "execution_count": 10,
     "metadata": {},
     "output_type": "execute_result"
    }
   ],
   "source": [
    "sal_d.columns"
   ]
  },
  {
   "cell_type": "code",
   "execution_count": 11,
   "id": "3a055ce6",
   "metadata": {},
   "outputs": [
    {
     "name": "stderr",
     "output_type": "stream",
     "text": [
      "C:\\Users\\rahul\\AppData\\Local\\Temp/ipykernel_6112/2152159082.py:1: FutureWarning: Dropping of nuisance columns in DataFrame reductions (with 'numeric_only=None') is deprecated; in a future version this will raise TypeError.  Select only valid columns before calling the reduction.\n",
      "  sal_d.std()\n"
     ]
    },
    {
     "data": {
      "text/plain": [
       "ba    3739.378569\n",
       "ms    3711.189469\n",
       "dtype: float64"
      ]
     },
     "execution_count": 11,
     "metadata": {},
     "output_type": "execute_result"
    }
   ],
   "source": [
    "sal_d.std()"
   ]
  },
  {
   "cell_type": "code",
   "execution_count": 16,
   "id": "254241d6",
   "metadata": {},
   "outputs": [
    {
     "data": {
      "text/html": [
       "<div>\n",
       "<style scoped>\n",
       "    .dataframe tbody tr th:only-of-type {\n",
       "        vertical-align: middle;\n",
       "    }\n",
       "\n",
       "    .dataframe tbody tr th {\n",
       "        vertical-align: top;\n",
       "    }\n",
       "\n",
       "    .dataframe thead th {\n",
       "        text-align: right;\n",
       "    }\n",
       "</style>\n",
       "<table border=\"1\" class=\"dataframe\">\n",
       "  <thead>\n",
       "    <tr style=\"text-align: right;\">\n",
       "      <th></th>\n",
       "      <th>First_Name</th>\n",
       "      <th>Last_Name</th>\n",
       "      <th>Grade</th>\n",
       "      <th>Location</th>\n",
       "      <th>ba</th>\n",
       "      <th>ms</th>\n",
       "    </tr>\n",
       "  </thead>\n",
       "  <tbody>\n",
       "    <tr>\n",
       "      <th>0</th>\n",
       "      <td>Alan</td>\n",
       "      <td>Brown</td>\n",
       "      <td>GR1</td>\n",
       "      <td>DELHI</td>\n",
       "      <td>17990</td>\n",
       "      <td>16070.0</td>\n",
       "    </tr>\n",
       "    <tr>\n",
       "      <th>1</th>\n",
       "      <td>Agatha</td>\n",
       "      <td>Williams</td>\n",
       "      <td>GR2</td>\n",
       "      <td>MUMBAI</td>\n",
       "      <td>12390</td>\n",
       "      <td>6630.0</td>\n",
       "    </tr>\n",
       "    <tr>\n",
       "      <th>2</th>\n",
       "      <td>Rajesh</td>\n",
       "      <td>Kolte</td>\n",
       "      <td>GR1</td>\n",
       "      <td>MUMBAI</td>\n",
       "      <td>19250</td>\n",
       "      <td>14960.0</td>\n",
       "    </tr>\n",
       "    <tr>\n",
       "      <th>3</th>\n",
       "      <td>Ameet</td>\n",
       "      <td>Mishra</td>\n",
       "      <td>GR2</td>\n",
       "      <td>DELHI</td>\n",
       "      <td>14780</td>\n",
       "      <td>9300.0</td>\n",
       "    </tr>\n",
       "  </tbody>\n",
       "</table>\n",
       "</div>"
      ],
      "text/plain": [
       "  First_Name Last_Name Grade Location     ba       ms\n",
       "0       Alan     Brown   GR1    DELHI  17990  16070.0\n",
       "1     Agatha  Williams   GR2   MUMBAI  12390   6630.0\n",
       "2     Rajesh     Kolte   GR1   MUMBAI  19250  14960.0\n",
       "3      Ameet    Mishra   GR2    DELHI  14780   9300.0"
      ]
     },
     "execution_count": 16,
     "metadata": {},
     "output_type": "execute_result"
    }
   ],
   "source": [
    "mean_data=sal_d[0:4]\n",
    "mean_data"
   ]
  },
  {
   "cell_type": "code",
   "execution_count": 17,
   "id": "32a367b1",
   "metadata": {},
   "outputs": [
    {
     "data": {
      "text/plain": [
       "MUMBAI    7\n",
       "DELHI     5\n",
       "Name: Location, dtype: int64"
      ]
     },
     "execution_count": 17,
     "metadata": {},
     "output_type": "execute_result"
    }
   ],
   "source": [
    "sal_d.Location.value_counts()"
   ]
  },
  {
   "cell_type": "code",
   "execution_count": null,
   "id": "3a924972",
   "metadata": {},
   "outputs": [],
   "source": []
  }
 ],
 "metadata": {
  "kernelspec": {
   "display_name": "Python 3 (ipykernel)",
   "language": "python",
   "name": "python3"
  },
  "language_info": {
   "codemirror_mode": {
    "name": "ipython",
    "version": 3
   },
   "file_extension": ".py",
   "mimetype": "text/x-python",
   "name": "python",
   "nbconvert_exporter": "python",
   "pygments_lexer": "ipython3",
   "version": "3.9.7"
  }
 },
 "nbformat": 4,
 "nbformat_minor": 5
}
